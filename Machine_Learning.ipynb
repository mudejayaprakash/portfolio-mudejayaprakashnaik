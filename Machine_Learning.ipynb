{
 "cells": [
  {
   "cell_type": "markdown",
   "metadata": {
    "id": "MHxCGmLtELmZ"
   },
   "source": [
    "### ISM6251 – Final Group Project"
   ]
  },
  {
   "cell_type": "markdown",
   "metadata": {
    "id": "_EAen8dTPg4Z"
   },
   "source": [
    "# Predicting Team-Level Productivity in Garment Manufacturing\n",
    "## A Classification Model for Operational Efficiency"
   ]
  },
  {
   "cell_type": "markdown",
   "metadata": {
    "id": "D15kq9CzEQ4-"
   },
   "source": [
    "## Team Members\n",
    "- Arushi Panwar\n",
    "- Nairi Keeney\n",
    "- Mude Jayaprakash Naik"
   ]
  },
  {
   "cell_type": "markdown",
   "metadata": {
    "id": "JAuu2M5uEe5C"
   },
   "source": [
    "## Index\n",
    "\n",
    "- [Part 1: Introduction](#Part-1:-Introduction)\n",
    "  - [1. Business Context and Problem](#1.-Business-Context-and-Problem)\n",
    "  - [2. Dataset Details](#2.-Dataset-Details)\n",
    "  - [3. Objective](#3.-Objective)\n",
    "  - [4. Why This Problem Matters?](#4.-Why-This-Problem-Matters?)\n",
    "\n",
    "- [Part 2: Data Loading, Exploration, and Preprocessing](#Part-2:-Data-Loading,-Exploration,-and-Preprocessing)\n",
    "  - [1. Importing Necessary Libraries](#1.-Importing-Necessary-Libraries)\n",
    "  - [2. Data Loading](#2.-Data-Loading)\n",
    "  - [3. Exploratory Data Analysis](#3.-Exploratory-Data-Analysis)\n",
    "  - [4. Data Preprocessing](#4.-Data-Preprocessing)\n",
    "\n",
    "- [Part 3. Model Building](#Part-3.-Model-Building)\n",
    "  - [1. Logistic Regression](#1.-Logistic-Regression)\n",
    "  - [2. Random Forest](#2.-Random-Forest)\n",
    "  - [3. Gradient Boost Models - LightGBM](#3.-Gradient-Boost-Models---LightGBM)\n",
    "\n",
    "- [Part 4. Findings and Discussion](#Part-4.-Findings-and-Discussion)\n",
    "  - [1. Error Analysis](#1.-Error-Analysis)\n",
    "  - [2. Comparison of Evaluation Metrics](#2.-Comparison-of-Evaluation-Metrics)\n",
    "  - [3. Model Comparison Summary](#3.-Model-Comparison-Summary)\n",
    "  - [4. Recommended Model and its usage](#4.-Recommended-Model-and-its-usage)\n",
    "\n",
    "- [Part 5. Conclusion](#Part-5.-Conclusion)"
   ]
  },
  {
   "cell_type": "markdown",
   "metadata": {
    "id": "wtSkLBAIEfGW"
   },
   "source": [
    "# Part 1: Introduction"
   ]
  },
  {
   "cell_type": "markdown",
   "metadata": {
    "id": "iSaWCdrjFzLG",
    "jp-MarkdownHeadingCollapsed": true
   },
   "source": [
    "## 1. Business Context and Problem\n",
    "\n",
    "The garment manufacturing industry is labor-intensive and deadline-driven, especially in countries like Bangladesh. Meeting daily productivity targets is vital for profit and timely delivery. Yet, decisions to manage workforce performance are often reactive, leading to missed delivery targets and inefficient labor use.\n",
    "\n",
    "A classification model using features like team size, task type, idle men, etc., can enable early interventions, turning reactive management into proactive, data-driven action.\n",
    "\n",
    "### Business Problem\n",
    "At the beginning of the workday, identify if a team will meet their daily productivity targets based on available operational features."
   ]
  },
  {
   "cell_type": "markdown",
   "metadata": {
    "id": "3JPbLcQJFzQC"
   },
   "source": [
    "## 2. Dataset Details\n",
    "\n",
    "### Dataset Selection\n",
    "\n",
    "The dataset **Productivity Prediction of Garment Employees** is chosen for this project from the UCI Machine Learning Repository.  \n",
    "This dataset contains information on 1197 Instances with 15 variables and missing values.\n",
    "\n",
    "### Dataset Link\n",
    "\n",
    "https://archive.ics.uci.edu/dataset/597/productivity+prediction+of+garment+employees\n",
    "\n",
    "### Extraction Details\n",
    "\n",
    "This data was collected manually and includes the main attributes of the garment manufacturing process and the productivity of the employees, which is also validated by industry experts.\n",
    "\n",
    "### Dataset Overview\n",
    "\n",
    "The dataset includes the following attributes:\n",
    "\n",
    "- **date**: Date of observation in MM-DD-YYYY format – *Date*  \n",
    "- **quarter**: A portion of the month. A month was divided into four quarters  – *Categorical*  \n",
    "- **department**: Department type within the factory (e.g., sewing, finishing) – *Categorical*  \n",
    "- **day**: Day of the week – *Categorical*  \n",
    "- **team**: Numeric identifier assigned to each production team – *Integer*  \n",
    "- **targeted_productivity**: Pre-assigned productivity goal for the team on that day – *Continuous*  \n",
    "- **smv**: Standard Minute Value; time allotted to complete a task – *Continuous*  \n",
    "- **wip**: Work-in-progress: Includes number of unfinished items for products – *Integer*\n",
    "- **over_time**: Total overtime (in minutes) logged by the team – *Integer*  \n",
    "- **incentive**: Bonus amount (in Bangladeshi Taka - BDT) offered to boost performance – *Integer*  \n",
    "- **idle_time**: Number of minutes the team remained inactive during work hours – *Integer*  \n",
    "- **idle_men**: Number of idle workers during downtime – *Integer*  \n",
    "- **no_of_style_change**: Number of changes in the style of a particular product. – *Integer*  \n",
    "- **no_of_workers**: Total number of workers in the team – *Integer*  \n",
    "- **actual_productivity**: Final achieved productivity for the team (scaled 0 to 1) – *Continuous*\n",
    "\n",
    "Out of these, the **wip** variable has missing values."
   ]
  },
  {
   "cell_type": "markdown",
   "metadata": {
    "id": "5-sNeq8RFzXF"
   },
   "source": [
    "## 3. Objective\n",
    "\n",
    "While previous studies have used this data to predict exact productivity values or segment them into multiple classes, our project takes a more actionable approach by reframing the problem as a binary classification task:\n",
    "\n",
    "**Will a team meet its productivity target today?**\n",
    "\n",
    "This helps factory supervisors take early action, adjusting resources or support before productivity drops, turning reactive management into proactive decision-making.\n",
    "\n",
    "### Goal\n",
    "By using team-level operational features, develop a model to predict whether a production team will achieve its daily target. The target variable is defined as:\n",
    "\n",
    "1 → Team did not meet the target  \n",
    "0 → Team met or exceeded the target  \n"
   ]
  },
  {
   "cell_type": "markdown",
   "metadata": {
    "id": "Gi7lz_qWAhqk"
   },
   "source": [
    "## 4. Why This Problem Matters?\n",
    "- Garment manufacturing is a key economic driver in countries like Bangladesh, yet daily production decisions are often reactive rather than data-driven.\n",
    "- Failure to meet productivity targets leads to missed deadlines, increased labor costs, and reputational damage for global suppliers.\n",
    "- Failure to identify productive teams leads to missed recognition, underutilization of resources, and a possible drop in motivation, indirectly impacting productivity.\n",
    "- Right now, supervisors lack early insight into whether teams will meet their targets, and interventions often come too late to be effective.\n",
    "- A proactive classification model would empower managers to recognize productive teams and reallocate resources in real time, improving efficiency, motivation, and preventing costly delays.\n",
    "- Prior research focuses on regression or multi-class segmentation, but a **binary prediction model** provides a more actionable approach by answering the question: **intervene now or stay the course**.\n",
    "- Even small gains in correctly predicting low-performing vs high-performing teams can translate into major cost savings and operational improvements at scale."
   ]
  },
  {
   "cell_type": "markdown",
   "metadata": {
    "id": "h4_ZccoDmmIV"
   },
   "source": [
    "[Index](#Index)\n",
    "\n",
    "# Part 2: Data Loading, Exploration, and Preprocessing"
   ]
  },
  {
   "cell_type": "markdown",
   "metadata": {
    "id": "iFvgLEaWoTpK"
   },
   "source": [
    "## 1. Importing Necessary Libraries"
   ]
  },
  {
   "cell_type": "code",
   "execution_count": null,
   "metadata": {
    "colab": {
     "base_uri": "https://localhost:8080/"
    },
    "id": "AvMwI0lO7JfP",
    "outputId": "f87ab0e2-dff2-484d-bd3d-42a0c5b08764"
   },
   "outputs": [
    {
     "name": "stderr",
     "output_type": "stream",
     "text": [
      "/var/folders/dd/12gc6y0d43q88h764p32_xph0000gn/T/ipykernel_2596/3209264205.py:15: FutureWarning: use_inf_as_na option is deprecated and will be removed in a future version. Convert inf values to NaN before operating instead.\n",
      "  pd.options.mode.use_inf_as_na = True  # If handling infinite values as NA in Pandas 3\n"
     ]
    }
   ],
   "source": [
    "# imports\n",
    "import matplotlib.pyplot as plt\n",
    "import seaborn as sns\n",
    "import numpy as np\n",
    "import pandas as pd\n",
    "from sklearn.ensemble import RandomForestClassifier\n",
    "from sklearn.linear_model import LogisticRegression\n",
    "from lightgbm import LGBMClassifier\n",
    "from sklearn.metrics import accuracy_score, auc, average_precision_score, confusion_matrix, ConfusionMatrixDisplay, classification_report, f1_score, mean_squared_error, precision_recall_curve, precision_score, recall_score, roc_curve, roc_auc_score\n",
    "from sklearn.model_selection import cross_val_score, train_test_split, GridSearchCV\n",
    "from sklearn.preprocessing import OrdinalEncoder, StandardScaler\n",
    "\n",
    "# Ensure compatibility with Pandas 3\n",
    "pd.options.mode.use_inf_as_na = True  # If handling infinite values as NA in Pandas 3\n",
    "\n",
    "# For displaying all columns\n",
    "pd.set_option('display.max_columns', None)\n",
    "\n",
    "# Set random seed\n",
    "np.random.seed(7)"
   ]
  },
  {
   "cell_type": "markdown",
   "metadata": {
    "id": "U7J37oPXQ2q9"
   },
   "source": [
    "## 2. Data Loading\n",
    "\n",
    "Loading the dataset directly from the UCI Machine Learning Repository using the script provided on their website.\n",
    "\n",
    "This step requires the installation of **ucimlrepo** package. This package helps to easily import datasets from the UCI Machine Learning Repository into scripts and notebooks"
   ]
  },
  {
   "cell_type": "code",
   "execution_count": 559,
   "metadata": {
    "colab": {
     "base_uri": "https://localhost:8080/"
    },
    "id": "lLl9M5u5QhmC",
    "outputId": "de991313-9bf1-4d5c-a6cc-234afbae925f"
   },
   "outputs": [
    {
     "name": "stdout",
     "output_type": "stream",
     "text": [
      "Requirement already satisfied: ucimlrepo in /opt/anaconda3/lib/python3.12/site-packages (0.0.7)\n",
      "Requirement already satisfied: pandas>=1.0.0 in /opt/anaconda3/lib/python3.12/site-packages (from ucimlrepo) (2.2.2)\n",
      "Requirement already satisfied: certifi>=2020.12.5 in /opt/anaconda3/lib/python3.12/site-packages (from ucimlrepo) (2025.1.31)\n",
      "Requirement already satisfied: numpy>=1.26.0 in /opt/anaconda3/lib/python3.12/site-packages (from pandas>=1.0.0->ucimlrepo) (1.26.4)\n",
      "Requirement already satisfied: python-dateutil>=2.8.2 in /opt/anaconda3/lib/python3.12/site-packages (from pandas>=1.0.0->ucimlrepo) (2.9.0.post0)\n",
      "Requirement already satisfied: pytz>=2020.1 in /opt/anaconda3/lib/python3.12/site-packages (from pandas>=1.0.0->ucimlrepo) (2024.1)\n",
      "Requirement already satisfied: tzdata>=2022.7 in /opt/anaconda3/lib/python3.12/site-packages (from pandas>=1.0.0->ucimlrepo) (2023.3)\n",
      "Requirement already satisfied: six>=1.5 in /opt/anaconda3/lib/python3.12/site-packages (from python-dateutil>=2.8.2->pandas>=1.0.0->ucimlrepo) (1.16.0)\n",
      "Note: you may need to restart the kernel to use updated packages.\n"
     ]
    }
   ],
   "source": [
    "pip install ucimlrepo"
   ]
  },
  {
   "cell_type": "code",
   "execution_count": 560,
   "metadata": {
    "id": "QtW01JWbQIB5"
   },
   "outputs": [],
   "source": [
    "from ucimlrepo import fetch_ucirepo\n",
    "\n",
    "# fetch dataset\n",
    "productivity_prediction_of_garment_employees = fetch_ucirepo(id=597)\n",
    "\n",
    "# data (as pandas dataframes)\n",
    "X = productivity_prediction_of_garment_employees.data.features\n",
    "y = productivity_prediction_of_garment_employees.data.targets"
   ]
  },
  {
   "cell_type": "code",
   "execution_count": 561,
   "metadata": {
    "colab": {
     "base_uri": "https://localhost:8080/",
     "height": 415
    },
    "id": "yqwWrQi8QIE-",
    "outputId": "06e5a8cd-13c0-422d-a1c1-b351a2c9a93c"
   },
   "outputs": [
    {
     "name": "stdout",
     "output_type": "stream",
     "text": [
      "Data shape: (1197, 15)\n",
      "Columns preview:\n"
     ]
    },
    {
     "data": {
      "text/plain": [
       "['date',\n",
       " 'quarter',\n",
       " 'department',\n",
       " 'day',\n",
       " 'team',\n",
       " 'targeted_productivity',\n",
       " 'smv',\n",
       " 'wip',\n",
       " 'over_time',\n",
       " 'incentive',\n",
       " 'idle_time',\n",
       " 'idle_men',\n",
       " 'no_of_style_change',\n",
       " 'no_of_workers',\n",
       " 'actual_productivity']"
      ]
     },
     "execution_count": 561,
     "metadata": {},
     "output_type": "execute_result"
    }
   ],
   "source": [
    "# Combining the X and y to create dataset\n",
    "garment_data = pd.concat([X, y], axis=1)\n",
    "# Checking the shape and column names\n",
    "print(f\"Data shape: {garment_data.shape}\")\n",
    "print(\"Columns preview:\")\n",
    "garment_data.columns.to_list()"
   ]
  },
  {
   "cell_type": "markdown",
   "metadata": {},
   "source": [
    "### Target Variable\n",
    "\n",
    "As we don't have the target variable by default in the data, we are creating the target variable as:\n",
    "\n",
    "1 → Team did not meet the target  = `actual_productivity` < `targeted_productivity`\n",
    "\n",
    "0 → Team met or exceeded the target  = `actual_productivity` >= `targeted_productivity`\n",
    "\n",
    "And, also dropping the variables `actual_productivity` and `targeted_productivity`. "
   ]
  },
  {
   "cell_type": "code",
   "execution_count": 564,
   "metadata": {},
   "outputs": [
    {
     "name": "stdout",
     "output_type": "stream",
     "text": [
      "Data shape\n",
      "before dropping the columns: (1197, 16)\n",
      "after dropping the columns: (1197, 14)\n"
     ]
    }
   ],
   "source": [
    "# Creating the target variable by using actual_productivity and targeted_productivity\n",
    "garment_data['productivity_met'] = (garment_data['actual_productivity'] < garment_data['targeted_productivity']).astype(int)\n",
    "\n",
    "# Dropping actual_productivity and targeted_productivity variables\n",
    "print(\"Data shape\\nbefore dropping the columns:\", garment_data.shape)\n",
    "\n",
    "garment_data.drop(columns=['actual_productivity','targeted_productivity'], inplace=True)\n",
    "\n",
    "print(\"after dropping the columns:\", garment_data.shape)"
   ]
  },
  {
   "cell_type": "markdown",
   "metadata": {},
   "source": [
    "We will drop the `over_time` variable as well, as it is a reactive measure, so not helpful for proactive planning."
   ]
  },
  {
   "cell_type": "code",
   "execution_count": 569,
   "metadata": {},
   "outputs": [
    {
     "name": "stdout",
     "output_type": "stream",
     "text": [
      "Data shape\n",
      "before dropping the column: (1197, 14)\n",
      "after dropping the column: (1197, 13)\n"
     ]
    }
   ],
   "source": [
    "print(\"Data shape\\nbefore dropping the column:\", garment_data.shape)\n",
    "\n",
    "garment_data.drop(columns=['over_time'], inplace=True)\n",
    "\n",
    "print(\"after dropping the column:\", garment_data.shape)"
   ]
  },
  {
   "cell_type": "code",
   "execution_count": 571,
   "metadata": {},
   "outputs": [
    {
     "name": "stdout",
     "output_type": "stream",
     "text": [
      "\n",
      "Viewing a few rows of Dataset: \n",
      "\n"
     ]
    },
    {
     "data": {
      "text/html": [
       "<div>\n",
       "<style scoped>\n",
       "    .dataframe tbody tr th:only-of-type {\n",
       "        vertical-align: middle;\n",
       "    }\n",
       "\n",
       "    .dataframe tbody tr th {\n",
       "        vertical-align: top;\n",
       "    }\n",
       "\n",
       "    .dataframe thead th {\n",
       "        text-align: right;\n",
       "    }\n",
       "</style>\n",
       "<table border=\"1\" class=\"dataframe\">\n",
       "  <thead>\n",
       "    <tr style=\"text-align: right;\">\n",
       "      <th></th>\n",
       "      <th>date</th>\n",
       "      <th>quarter</th>\n",
       "      <th>department</th>\n",
       "      <th>day</th>\n",
       "      <th>team</th>\n",
       "      <th>smv</th>\n",
       "      <th>wip</th>\n",
       "      <th>incentive</th>\n",
       "      <th>idle_time</th>\n",
       "      <th>idle_men</th>\n",
       "      <th>no_of_style_change</th>\n",
       "      <th>no_of_workers</th>\n",
       "      <th>productivity_met</th>\n",
       "    </tr>\n",
       "  </thead>\n",
       "  <tbody>\n",
       "    <tr>\n",
       "      <th>0</th>\n",
       "      <td>1/1/2015</td>\n",
       "      <td>Quarter1</td>\n",
       "      <td>sweing</td>\n",
       "      <td>Thursday</td>\n",
       "      <td>8</td>\n",
       "      <td>26.16</td>\n",
       "      <td>1108.0</td>\n",
       "      <td>98</td>\n",
       "      <td>0.0</td>\n",
       "      <td>0</td>\n",
       "      <td>0</td>\n",
       "      <td>59.0</td>\n",
       "      <td>0</td>\n",
       "    </tr>\n",
       "    <tr>\n",
       "      <th>1</th>\n",
       "      <td>1/1/2015</td>\n",
       "      <td>Quarter1</td>\n",
       "      <td>finishing</td>\n",
       "      <td>Thursday</td>\n",
       "      <td>1</td>\n",
       "      <td>3.94</td>\n",
       "      <td>NaN</td>\n",
       "      <td>0</td>\n",
       "      <td>0.0</td>\n",
       "      <td>0</td>\n",
       "      <td>0</td>\n",
       "      <td>8.0</td>\n",
       "      <td>0</td>\n",
       "    </tr>\n",
       "    <tr>\n",
       "      <th>2</th>\n",
       "      <td>1/1/2015</td>\n",
       "      <td>Quarter1</td>\n",
       "      <td>sweing</td>\n",
       "      <td>Thursday</td>\n",
       "      <td>11</td>\n",
       "      <td>11.41</td>\n",
       "      <td>968.0</td>\n",
       "      <td>50</td>\n",
       "      <td>0.0</td>\n",
       "      <td>0</td>\n",
       "      <td>0</td>\n",
       "      <td>30.5</td>\n",
       "      <td>0</td>\n",
       "    </tr>\n",
       "    <tr>\n",
       "      <th>3</th>\n",
       "      <td>1/1/2015</td>\n",
       "      <td>Quarter1</td>\n",
       "      <td>sweing</td>\n",
       "      <td>Thursday</td>\n",
       "      <td>12</td>\n",
       "      <td>11.41</td>\n",
       "      <td>968.0</td>\n",
       "      <td>50</td>\n",
       "      <td>0.0</td>\n",
       "      <td>0</td>\n",
       "      <td>0</td>\n",
       "      <td>30.5</td>\n",
       "      <td>0</td>\n",
       "    </tr>\n",
       "    <tr>\n",
       "      <th>4</th>\n",
       "      <td>1/1/2015</td>\n",
       "      <td>Quarter1</td>\n",
       "      <td>sweing</td>\n",
       "      <td>Thursday</td>\n",
       "      <td>6</td>\n",
       "      <td>25.90</td>\n",
       "      <td>1170.0</td>\n",
       "      <td>50</td>\n",
       "      <td>0.0</td>\n",
       "      <td>0</td>\n",
       "      <td>0</td>\n",
       "      <td>56.0</td>\n",
       "      <td>0</td>\n",
       "    </tr>\n",
       "    <tr>\n",
       "      <th>5</th>\n",
       "      <td>1/1/2015</td>\n",
       "      <td>Quarter1</td>\n",
       "      <td>sweing</td>\n",
       "      <td>Thursday</td>\n",
       "      <td>7</td>\n",
       "      <td>25.90</td>\n",
       "      <td>984.0</td>\n",
       "      <td>38</td>\n",
       "      <td>0.0</td>\n",
       "      <td>0</td>\n",
       "      <td>0</td>\n",
       "      <td>56.0</td>\n",
       "      <td>0</td>\n",
       "    </tr>\n",
       "    <tr>\n",
       "      <th>6</th>\n",
       "      <td>1/1/2015</td>\n",
       "      <td>Quarter1</td>\n",
       "      <td>finishing</td>\n",
       "      <td>Thursday</td>\n",
       "      <td>2</td>\n",
       "      <td>3.94</td>\n",
       "      <td>NaN</td>\n",
       "      <td>0</td>\n",
       "      <td>0.0</td>\n",
       "      <td>0</td>\n",
       "      <td>0</td>\n",
       "      <td>8.0</td>\n",
       "      <td>0</td>\n",
       "    </tr>\n",
       "    <tr>\n",
       "      <th>7</th>\n",
       "      <td>1/1/2015</td>\n",
       "      <td>Quarter1</td>\n",
       "      <td>sweing</td>\n",
       "      <td>Thursday</td>\n",
       "      <td>3</td>\n",
       "      <td>28.08</td>\n",
       "      <td>795.0</td>\n",
       "      <td>45</td>\n",
       "      <td>0.0</td>\n",
       "      <td>0</td>\n",
       "      <td>0</td>\n",
       "      <td>57.5</td>\n",
       "      <td>0</td>\n",
       "    </tr>\n",
       "    <tr>\n",
       "      <th>8</th>\n",
       "      <td>1/1/2015</td>\n",
       "      <td>Quarter1</td>\n",
       "      <td>sweing</td>\n",
       "      <td>Thursday</td>\n",
       "      <td>2</td>\n",
       "      <td>19.87</td>\n",
       "      <td>733.0</td>\n",
       "      <td>34</td>\n",
       "      <td>0.0</td>\n",
       "      <td>0</td>\n",
       "      <td>0</td>\n",
       "      <td>55.0</td>\n",
       "      <td>0</td>\n",
       "    </tr>\n",
       "    <tr>\n",
       "      <th>9</th>\n",
       "      <td>1/1/2015</td>\n",
       "      <td>Quarter1</td>\n",
       "      <td>sweing</td>\n",
       "      <td>Thursday</td>\n",
       "      <td>1</td>\n",
       "      <td>28.08</td>\n",
       "      <td>681.0</td>\n",
       "      <td>45</td>\n",
       "      <td>0.0</td>\n",
       "      <td>0</td>\n",
       "      <td>0</td>\n",
       "      <td>57.5</td>\n",
       "      <td>0</td>\n",
       "    </tr>\n",
       "  </tbody>\n",
       "</table>\n",
       "</div>"
      ],
      "text/plain": [
       "       date   quarter department       day  team    smv     wip  incentive  \\\n",
       "0  1/1/2015  Quarter1     sweing  Thursday     8  26.16  1108.0         98   \n",
       "1  1/1/2015  Quarter1  finishing  Thursday     1   3.94     NaN          0   \n",
       "2  1/1/2015  Quarter1     sweing  Thursday    11  11.41   968.0         50   \n",
       "3  1/1/2015  Quarter1     sweing  Thursday    12  11.41   968.0         50   \n",
       "4  1/1/2015  Quarter1     sweing  Thursday     6  25.90  1170.0         50   \n",
       "5  1/1/2015  Quarter1     sweing  Thursday     7  25.90   984.0         38   \n",
       "6  1/1/2015  Quarter1  finishing  Thursday     2   3.94     NaN          0   \n",
       "7  1/1/2015  Quarter1     sweing  Thursday     3  28.08   795.0         45   \n",
       "8  1/1/2015  Quarter1     sweing  Thursday     2  19.87   733.0         34   \n",
       "9  1/1/2015  Quarter1     sweing  Thursday     1  28.08   681.0         45   \n",
       "\n",
       "   idle_time  idle_men  no_of_style_change  no_of_workers  productivity_met  \n",
       "0        0.0         0                   0           59.0                 0  \n",
       "1        0.0         0                   0            8.0                 0  \n",
       "2        0.0         0                   0           30.5                 0  \n",
       "3        0.0         0                   0           30.5                 0  \n",
       "4        0.0         0                   0           56.0                 0  \n",
       "5        0.0         0                   0           56.0                 0  \n",
       "6        0.0         0                   0            8.0                 0  \n",
       "7        0.0         0                   0           57.5                 0  \n",
       "8        0.0         0                   0           55.0                 0  \n",
       "9        0.0         0                   0           57.5                 0  "
      ]
     },
     "execution_count": 571,
     "metadata": {},
     "output_type": "execute_result"
    }
   ],
   "source": [
    "print('\\nViewing a few rows of Dataset: \\n')\n",
    "garment_data.head(10)"
   ]
  },
  {
   "cell_type": "markdown",
   "metadata": {
    "id": "AJCd9MK3RmGi"
   },
   "source": [
    "[Index](#Index)\n",
    "\n",
    "## 3. Exploratory Data Analysis"
   ]
  },
  {
   "cell_type": "markdown",
   "metadata": {
    "id": "5q7zxgLHSp_g"
   },
   "source": [
    "### Dataset Information"
   ]
  },
  {
   "cell_type": "code",
   "execution_count": 575,
   "metadata": {
    "colab": {
     "base_uri": "https://localhost:8080/"
    },
    "id": "xsqhQq0sQIHl",
    "outputId": "578e7035-748e-43ee-93bb-bc4193d5c046"
   },
   "outputs": [
    {
     "name": "stdout",
     "output_type": "stream",
     "text": [
      "Shape of the Data:  (1197, 13)\n",
      "\n",
      "Data Types: \n",
      "\n",
      "date                   object\n",
      "quarter                object\n",
      "department             object\n",
      "day                    object\n",
      "team                    int64\n",
      "smv                   float64\n",
      "wip                   float64\n",
      "incentive               int64\n",
      "idle_time             float64\n",
      "idle_men                int64\n",
      "no_of_style_change      int64\n",
      "no_of_workers         float64\n",
      "productivity_met        int64\n",
      "dtype: object\n"
     ]
    }
   ],
   "source": [
    "print('Shape of the Data: ', garment_data.shape)\n",
    "print('\\nData Types: \\n')\n",
    "print(garment_data.dtypes)"
   ]
  },
  {
   "cell_type": "markdown",
   "metadata": {
    "id": "d42gAEMHUXAD"
   },
   "source": [
    "### Statistical Summary"
   ]
  },
  {
   "cell_type": "code",
   "execution_count": 578,
   "metadata": {
    "colab": {
     "base_uri": "https://localhost:8080/",
     "height": 412
    },
    "id": "QjvOe4H0UWHi",
    "outputId": "3181f378-0129-46aa-f70d-ae0f0977851b"
   },
   "outputs": [
    {
     "name": "stdout",
     "output_type": "stream",
     "text": [
      "Statistical Summary:\n"
     ]
    },
    {
     "data": {
      "text/html": [
       "<div>\n",
       "<style scoped>\n",
       "    .dataframe tbody tr th:only-of-type {\n",
       "        vertical-align: middle;\n",
       "    }\n",
       "\n",
       "    .dataframe tbody tr th {\n",
       "        vertical-align: top;\n",
       "    }\n",
       "\n",
       "    .dataframe thead th {\n",
       "        text-align: right;\n",
       "    }\n",
       "</style>\n",
       "<table border=\"1\" class=\"dataframe\">\n",
       "  <thead>\n",
       "    <tr style=\"text-align: right;\">\n",
       "      <th></th>\n",
       "      <th>date</th>\n",
       "      <th>quarter</th>\n",
       "      <th>department</th>\n",
       "      <th>day</th>\n",
       "      <th>team</th>\n",
       "      <th>smv</th>\n",
       "      <th>wip</th>\n",
       "      <th>incentive</th>\n",
       "      <th>idle_time</th>\n",
       "      <th>idle_men</th>\n",
       "      <th>no_of_style_change</th>\n",
       "      <th>no_of_workers</th>\n",
       "      <th>productivity_met</th>\n",
       "    </tr>\n",
       "  </thead>\n",
       "  <tbody>\n",
       "    <tr>\n",
       "      <th>count</th>\n",
       "      <td>1197</td>\n",
       "      <td>1197</td>\n",
       "      <td>1197</td>\n",
       "      <td>1197</td>\n",
       "      <td>1197.000000</td>\n",
       "      <td>1197.000000</td>\n",
       "      <td>691.000000</td>\n",
       "      <td>1197.000000</td>\n",
       "      <td>1197.000000</td>\n",
       "      <td>1197.000000</td>\n",
       "      <td>1197.000000</td>\n",
       "      <td>1197.000000</td>\n",
       "      <td>1197.000000</td>\n",
       "    </tr>\n",
       "    <tr>\n",
       "      <th>unique</th>\n",
       "      <td>59</td>\n",
       "      <td>5</td>\n",
       "      <td>2</td>\n",
       "      <td>6</td>\n",
       "      <td>NaN</td>\n",
       "      <td>NaN</td>\n",
       "      <td>NaN</td>\n",
       "      <td>NaN</td>\n",
       "      <td>NaN</td>\n",
       "      <td>NaN</td>\n",
       "      <td>NaN</td>\n",
       "      <td>NaN</td>\n",
       "      <td>NaN</td>\n",
       "    </tr>\n",
       "    <tr>\n",
       "      <th>top</th>\n",
       "      <td>3/11/2015</td>\n",
       "      <td>Quarter1</td>\n",
       "      <td>sweing</td>\n",
       "      <td>Wednesday</td>\n",
       "      <td>NaN</td>\n",
       "      <td>NaN</td>\n",
       "      <td>NaN</td>\n",
       "      <td>NaN</td>\n",
       "      <td>NaN</td>\n",
       "      <td>NaN</td>\n",
       "      <td>NaN</td>\n",
       "      <td>NaN</td>\n",
       "      <td>NaN</td>\n",
       "    </tr>\n",
       "    <tr>\n",
       "      <th>freq</th>\n",
       "      <td>24</td>\n",
       "      <td>360</td>\n",
       "      <td>691</td>\n",
       "      <td>208</td>\n",
       "      <td>NaN</td>\n",
       "      <td>NaN</td>\n",
       "      <td>NaN</td>\n",
       "      <td>NaN</td>\n",
       "      <td>NaN</td>\n",
       "      <td>NaN</td>\n",
       "      <td>NaN</td>\n",
       "      <td>NaN</td>\n",
       "      <td>NaN</td>\n",
       "    </tr>\n",
       "    <tr>\n",
       "      <th>mean</th>\n",
       "      <td>NaN</td>\n",
       "      <td>NaN</td>\n",
       "      <td>NaN</td>\n",
       "      <td>NaN</td>\n",
       "      <td>6.426901</td>\n",
       "      <td>15.062172</td>\n",
       "      <td>1190.465991</td>\n",
       "      <td>38.210526</td>\n",
       "      <td>0.730159</td>\n",
       "      <td>0.369256</td>\n",
       "      <td>0.150376</td>\n",
       "      <td>34.609858</td>\n",
       "      <td>0.269006</td>\n",
       "    </tr>\n",
       "    <tr>\n",
       "      <th>std</th>\n",
       "      <td>NaN</td>\n",
       "      <td>NaN</td>\n",
       "      <td>NaN</td>\n",
       "      <td>NaN</td>\n",
       "      <td>3.463963</td>\n",
       "      <td>10.943219</td>\n",
       "      <td>1837.455001</td>\n",
       "      <td>160.182643</td>\n",
       "      <td>12.709757</td>\n",
       "      <td>3.268987</td>\n",
       "      <td>0.427848</td>\n",
       "      <td>22.197687</td>\n",
       "      <td>0.443628</td>\n",
       "    </tr>\n",
       "    <tr>\n",
       "      <th>min</th>\n",
       "      <td>NaN</td>\n",
       "      <td>NaN</td>\n",
       "      <td>NaN</td>\n",
       "      <td>NaN</td>\n",
       "      <td>1.000000</td>\n",
       "      <td>2.900000</td>\n",
       "      <td>7.000000</td>\n",
       "      <td>0.000000</td>\n",
       "      <td>0.000000</td>\n",
       "      <td>0.000000</td>\n",
       "      <td>0.000000</td>\n",
       "      <td>2.000000</td>\n",
       "      <td>0.000000</td>\n",
       "    </tr>\n",
       "    <tr>\n",
       "      <th>25%</th>\n",
       "      <td>NaN</td>\n",
       "      <td>NaN</td>\n",
       "      <td>NaN</td>\n",
       "      <td>NaN</td>\n",
       "      <td>3.000000</td>\n",
       "      <td>3.940000</td>\n",
       "      <td>774.500000</td>\n",
       "      <td>0.000000</td>\n",
       "      <td>0.000000</td>\n",
       "      <td>0.000000</td>\n",
       "      <td>0.000000</td>\n",
       "      <td>9.000000</td>\n",
       "      <td>0.000000</td>\n",
       "    </tr>\n",
       "    <tr>\n",
       "      <th>50%</th>\n",
       "      <td>NaN</td>\n",
       "      <td>NaN</td>\n",
       "      <td>NaN</td>\n",
       "      <td>NaN</td>\n",
       "      <td>6.000000</td>\n",
       "      <td>15.260000</td>\n",
       "      <td>1039.000000</td>\n",
       "      <td>0.000000</td>\n",
       "      <td>0.000000</td>\n",
       "      <td>0.000000</td>\n",
       "      <td>0.000000</td>\n",
       "      <td>34.000000</td>\n",
       "      <td>0.000000</td>\n",
       "    </tr>\n",
       "    <tr>\n",
       "      <th>75%</th>\n",
       "      <td>NaN</td>\n",
       "      <td>NaN</td>\n",
       "      <td>NaN</td>\n",
       "      <td>NaN</td>\n",
       "      <td>9.000000</td>\n",
       "      <td>24.260000</td>\n",
       "      <td>1252.500000</td>\n",
       "      <td>50.000000</td>\n",
       "      <td>0.000000</td>\n",
       "      <td>0.000000</td>\n",
       "      <td>0.000000</td>\n",
       "      <td>57.000000</td>\n",
       "      <td>1.000000</td>\n",
       "    </tr>\n",
       "    <tr>\n",
       "      <th>max</th>\n",
       "      <td>NaN</td>\n",
       "      <td>NaN</td>\n",
       "      <td>NaN</td>\n",
       "      <td>NaN</td>\n",
       "      <td>12.000000</td>\n",
       "      <td>54.560000</td>\n",
       "      <td>23122.000000</td>\n",
       "      <td>3600.000000</td>\n",
       "      <td>300.000000</td>\n",
       "      <td>45.000000</td>\n",
       "      <td>2.000000</td>\n",
       "      <td>89.000000</td>\n",
       "      <td>1.000000</td>\n",
       "    </tr>\n",
       "  </tbody>\n",
       "</table>\n",
       "</div>"
      ],
      "text/plain": [
       "             date   quarter department        day         team          smv  \\\n",
       "count        1197      1197       1197       1197  1197.000000  1197.000000   \n",
       "unique         59         5          2          6          NaN          NaN   \n",
       "top     3/11/2015  Quarter1     sweing  Wednesday          NaN          NaN   \n",
       "freq           24       360        691        208          NaN          NaN   \n",
       "mean          NaN       NaN        NaN        NaN     6.426901    15.062172   \n",
       "std           NaN       NaN        NaN        NaN     3.463963    10.943219   \n",
       "min           NaN       NaN        NaN        NaN     1.000000     2.900000   \n",
       "25%           NaN       NaN        NaN        NaN     3.000000     3.940000   \n",
       "50%           NaN       NaN        NaN        NaN     6.000000    15.260000   \n",
       "75%           NaN       NaN        NaN        NaN     9.000000    24.260000   \n",
       "max           NaN       NaN        NaN        NaN    12.000000    54.560000   \n",
       "\n",
       "                 wip    incentive    idle_time     idle_men  \\\n",
       "count     691.000000  1197.000000  1197.000000  1197.000000   \n",
       "unique           NaN          NaN          NaN          NaN   \n",
       "top              NaN          NaN          NaN          NaN   \n",
       "freq             NaN          NaN          NaN          NaN   \n",
       "mean     1190.465991    38.210526     0.730159     0.369256   \n",
       "std      1837.455001   160.182643    12.709757     3.268987   \n",
       "min         7.000000     0.000000     0.000000     0.000000   \n",
       "25%       774.500000     0.000000     0.000000     0.000000   \n",
       "50%      1039.000000     0.000000     0.000000     0.000000   \n",
       "75%      1252.500000    50.000000     0.000000     0.000000   \n",
       "max     23122.000000  3600.000000   300.000000    45.000000   \n",
       "\n",
       "        no_of_style_change  no_of_workers  productivity_met  \n",
       "count          1197.000000    1197.000000       1197.000000  \n",
       "unique                 NaN            NaN               NaN  \n",
       "top                    NaN            NaN               NaN  \n",
       "freq                   NaN            NaN               NaN  \n",
       "mean              0.150376      34.609858          0.269006  \n",
       "std               0.427848      22.197687          0.443628  \n",
       "min               0.000000       2.000000          0.000000  \n",
       "25%               0.000000       9.000000          0.000000  \n",
       "50%               0.000000      34.000000          0.000000  \n",
       "75%               0.000000      57.000000          1.000000  \n",
       "max               2.000000      89.000000          1.000000  "
      ]
     },
     "execution_count": 578,
     "metadata": {},
     "output_type": "execute_result"
    }
   ],
   "source": [
    "print('Statistical Summary:')\n",
    "garment_data.describe(include='all')"
   ]
  },
  {
   "cell_type": "markdown",
   "metadata": {
    "id": "sMHV8b3mVrpo"
   },
   "source": [
    "- The **department** and **day** variables are nominal as they do not have any inherent order.\n",
    "- The **quarter** variable captures intra-month production phases and is supposed to have 4 values as per the data description, but we have 5 values in the data. Assuming that it is **ordinal** in nature, the order of quarters is:  \n",
    "`Quarter1 < Quarter2 < Quarter3 < Quarter4 < Quarter5`.\n",
    "- The **team** variable, even though it is numerical, is a nominal variable because it is an **identifier** assigned to each production team.\n",
    "\n",
    "Therefore, there are 4 types of variables in this data:\n",
    "- Date\n",
    "- Numerical\n",
    "- Categorical\n",
    "  - Nominal\n",
    "  - Ordinal"
   ]
  },
  {
   "cell_type": "code",
   "execution_count": 581,
   "metadata": {
    "colab": {
     "base_uri": "https://localhost:8080/"
    },
    "id": "Ln9hahK3Vson",
    "outputId": "e8fc0a85-7d03-4fa9-a9fd-10ce7200bab9"
   },
   "outputs": [
    {
     "name": "stdout",
     "output_type": "stream",
     "text": [
      "Different types of variables in dataset are:\n",
      "\n",
      " 1 Date Column:\n",
      " ['date']\n",
      "\n",
      " 3 Nominal Columns:\n",
      " ['team', 'department', 'day']\n",
      "\n",
      " 1 Ordinal Column:\n",
      " ['quarter']\n",
      "\n",
      "7 Numerical Columns:\n",
      " ['smv', 'wip', 'incentive', 'idle_time', 'idle_men', 'no_of_style_change', 'no_of_workers']\n"
     ]
    }
   ],
   "source": [
    "# Specifying different types of variables\n",
    "target_variable =['productivity_met']\n",
    "date_cols = ['date']\n",
    "nominal_cols = ['team','department', 'day']\n",
    "ordinal_cols = ['quarter']\n",
    "numerical_cols = [col for col in garment_data.columns if col not in date_cols + nominal_cols+ ordinal_cols+target_variable]\n",
    "\n",
    "print('Different types of variables in dataset are:')\n",
    "print(f\"\\n {len(date_cols)} Date Column:\\n\", date_cols)\n",
    "print(f\"\\n {len(nominal_cols)} Nominal Columns:\\n\", nominal_cols)\n",
    "print(f\"\\n {len(ordinal_cols)} Ordinal Column:\\n\", ordinal_cols)\n",
    "print(f\"\\n{ len(numerical_cols)} Numerical Columns:\\n\", numerical_cols)"
   ]
  },
  {
   "cell_type": "markdown",
   "metadata": {},
   "source": [
    "### Target Variable Distribution"
   ]
  },
  {
   "cell_type": "code",
   "execution_count": 584,
   "metadata": {},
   "outputs": [
    {
     "name": "stdout",
     "output_type": "stream",
     "text": [
      "Target Variable Distribution:\n",
      "productivity_met\n",
      "0    875\n",
      "1    322\n",
      "Name: count, dtype: int64\n",
      "\n",
      "Percentages:\n",
      " productivity_met\n",
      "0    0.730994\n",
      "1    0.269006\n",
      "Name: count, dtype: float64\n"
     ]
    }
   ],
   "source": [
    "print(\"Target Variable Distribution:\")\n",
    "print(garment_data['productivity_met'].value_counts())\n",
    "print(\"\\nPercentages:\\n\", garment_data['productivity_met'].value_counts()/garment_data.shape[0])"
   ]
  },
  {
   "cell_type": "markdown",
   "metadata": {},
   "source": [
    "The minority class (`productivity_met` = 1) is ~27% of the total dataset, and the majority class (`productivity_met` = 0) is about 73%. This imbalance could impact the development and performance of machine learning models, leading them to favor the majority class.\n",
    "\n",
    "Therefore, `stratify = y` is to be used while splitting the data to ensure that the class proportions are maintained in the Test and Train sets."
   ]
  },
  {
   "cell_type": "markdown",
   "metadata": {
    "id": "Y5aGpOmGSKHa"
   },
   "source": [
    "### Identifying missing values\n",
    "\n",
    "As per the dataset description given in UCI Machine Learning Repository, only **wip** column has missing values, but we are cross-checking here to be sure."
   ]
  },
  {
   "cell_type": "code",
   "execution_count": 588,
   "metadata": {
    "colab": {
     "base_uri": "https://localhost:8080/"
    },
    "id": "rpUAI1KzqeGj",
    "outputId": "1033c01c-721a-425a-9eb1-eb833bf714e0"
   },
   "outputs": [
    {
     "name": "stdout",
     "output_type": "stream",
     "text": [
      "Null Values in Garment Data: \n",
      "date                    0\n",
      "quarter                 0\n",
      "department              0\n",
      "day                     0\n",
      "team                    0\n",
      "smv                     0\n",
      "wip                   506\n",
      "incentive               0\n",
      "idle_time               0\n",
      "idle_men                0\n",
      "no_of_style_change      0\n",
      "no_of_workers           0\n",
      "productivity_met        0\n",
      "dtype: int64\n"
     ]
    }
   ],
   "source": [
    "# identifying missing values\n",
    "print('Null Values in Garment Data: ')\n",
    "print(garment_data.isnull().sum())"
   ]
  },
  {
   "cell_type": "code",
   "execution_count": 590,
   "metadata": {
    "colab": {
     "base_uri": "https://localhost:8080/"
    },
    "id": "antZQ4YncTTQ",
    "outputId": "7cab2fa8-0ffd-4c4a-c9ec-c8c0fabf8d49"
   },
   "outputs": [
    {
     "name": "stdout",
     "output_type": "stream",
     "text": [
      "Missing value percentage of wip column = 42.27%\n"
     ]
    }
   ],
   "source": [
    "print(f\"Missing value percentage of wip column = {100*garment_data['wip'].isnull().mean():.2f}%\")"
   ]
  },
  {
   "cell_type": "markdown",
   "metadata": {
    "id": "AwD3Tg2nTD0f"
   },
   "source": [
    "As `42.3%` of values are missing, this column needs to be removed to maintain data integrity and prevent bias. But, this variable is critical as per domain knowledge, so we will impute the column using the following methods:\n",
    "- As **wip** is a numerical column, we can impute it with either the `mean` or `median`, depending on the data distribution.\n",
    "- We will be exploring relations with categorical variables. If it exists, will use *Group-based imputation* methods.\n"
   ]
  },
  {
   "cell_type": "markdown",
   "metadata": {
    "id": "GyfNxMyPmlnX"
   },
   "source": [
    "[Index](#Index)\n",
    "\n",
    "### Vizualizations"
   ]
  },
  {
   "cell_type": "markdown",
   "metadata": {
    "id": "J3XcfmUunVtR"
   },
   "source": [
    "#### Feature distributions"
   ]
  },
  {
   "cell_type": "code",
   "execution_count": 595,
   "metadata": {
    "colab": {
     "base_uri": "https://localhost:8080/",
     "height": 1000
    },
    "id": "QpC7Ih18TAQo",
    "outputId": "862126f6-174b-41b7-f38a-f4c748f5ab63"
   },
   "outputs": [
    {
     "data": {
      "image/png": "[encoded data removed]",
      "text/plain": [
       "<Figure size 1600x1200 with 9 Axes>"
      ]
     },
     "metadata": {},
     "output_type": "display_data"
    }
   ],
   "source": [
    "# Numerical variables distribution\n",
    "garment_data[numerical_cols].hist(figsize=(16, 12), bins=30)\n",
    "plt.suptitle('Feature Distributions')\n",
    "plt.show()"
   ]
  },
  {
   "cell_type": "code",
   "execution_count": 596,
   "metadata": {
    "colab": {
     "base_uri": "https://localhost:8080/",
     "height": 511
    },
    "id": "WBITPd_YTATP",
    "outputId": "f542b4d8-40c3-4c81-de75-b17d4b34ea75"
   },
   "outputs": [
    {
     "name": "stderr",
     "output_type": "stream",
     "text": [
      "/var/folders/dd/12gc6y0d43q88h764p32_xph0000gn/T/ipykernel_2596/3587281903.py:6: UserWarning: set_ticklabels() should only be used with a fixed number of ticks, i.e. after set_ticks() or using a FixedLocator.\n",
      "  axes[i].set_xticklabels(axes[i].get_xticklabels(), rotation=45)\n",
      "/var/folders/dd/12gc6y0d43q88h764p32_xph0000gn/T/ipykernel_2596/3587281903.py:6: UserWarning: set_ticklabels() should only be used with a fixed number of ticks, i.e. after set_ticks() or using a FixedLocator.\n",
      "  axes[i].set_xticklabels(axes[i].get_xticklabels(), rotation=45)\n",
      "/var/folders/dd/12gc6y0d43q88h764p32_xph0000gn/T/ipykernel_2596/3587281903.py:6: UserWarning: set_ticklabels() should only be used with a fixed number of ticks, i.e. after set_ticks() or using a FixedLocator.\n",
      "  axes[i].set_xticklabels(axes[i].get_xticklabels(), rotation=45)\n"
     ]
    },
    {
     "data": {
      "image/png": "[encoded data removed]",
      "text/plain": [
       "<Figure size 1200x400 with 3 Axes>"
      ]
     },
     "metadata": {},
     "output_type": "display_data"
    }
   ],
   "source": [
    "# Nominal Variables - Count plots\n",
    "fig, axes = plt.subplots(1, 3, figsize=(12, 4))\n",
    "for i, col in enumerate(nominal_cols):\n",
    "    sns.countplot(x=col, data=garment_data, order=garment_data[col].value_counts().index, ax=axes[i])\n",
    "    axes[i].set_title(f'{col.capitalize()} Distribution')\n",
    "    axes[i].set_xticklabels(axes[i].get_xticklabels(), rotation=45)\n",
    "\n",
    "plt.tight_layout()\n",
    "plt.show()"
   ]
  },
  {
   "cell_type": "code",
   "execution_count": 597,
   "metadata": {
    "colab": {
     "base_uri": "https://localhost:8080/",
     "height": 472
    },
    "id": "2DV-30M-jjl8",
    "outputId": "547d2289-9241-45c9-e4ef-0b7612b167f3"
   },
   "outputs": [
    {
     "data": {
      "image/png": "[encoded data removed]",
      "text/plain": [
       "<Figure size 640x480 with 1 Axes>"
      ]
     },
     "metadata": {},
     "output_type": "display_data"
    }
   ],
   "source": [
    "# Ordinal data plot\n",
    "ordinal_order = ['Quarter1', 'Quarter2', 'Quarter3', 'Quarter4','Quarter5'] #assumption\n",
    "\n",
    "sns.countplot(data=garment_data, x='quarter', order=ordinal_order)\n",
    "plt.title(\"Distribution of Quarter\")\n",
    "plt.xlabel(\"Quarter (Week of the Month)\")\n",
    "plt.ylabel(\"Count\")\n",
    "plt.show()"
   ]
  },
  {
   "cell_type": "markdown",
   "metadata": {
    "id": "Gpwtv0j_517F"
   },
   "source": [
    "### Observations\n",
    "\n",
    "Based on above plots and statistical analysis\n"
   ]
  },
  {
   "cell_type": "markdown",
   "metadata": {
    "id": "UuR81-iroFjf"
   },
   "source": [
    "#### Numerical Feature Distributions\n",
    "\n",
    "- **SMV (Standard Minute Value)**: Right-skewed with most tasks taking less than 5 min, some between 10 and 30 min, and a very few tasks take more than 30 min, indicating some complex tasks.\n",
    "\n",
    "- **WIP (Work in Progress)**: Highly right-skewed with low WIP. On very few days, large backlogs are accumulated, indicating either errors or outliers (inefficiencies/delays). But, as there are more than half missing values, further exploration is required\n",
    "\n",
    "- **Incentive**: Completely Right-skewed, with maximum teams receiving little or no incentives. A few received very high bonuses, possibly errors, more than outliers.\n",
    "\n",
    "- **Idle Time & Idle Men**: Heavily right-skewed: Most days, teams are productive with minimal idleness. However, a few high idle times are reported, possibly errors more than outliers.\n",
    "\n",
    "- **Number of Style Changes**: This is a discrete variable with mostly no style changes. On a few days, 1 style change was reported, but 2 style changes are very rare. This is considered good, as Frequent changes could disrupt workflow and affect productivity.\n",
    "\n",
    "- **Number of Workers**: Clearly, bimodal distribution.  There are two prominent peaks, around 10–15 and 55–60 workers. This likely reflects different team types or departments (e.g., small finishing vs. large sewing teams)."
   ]
  },
  {
   "cell_type": "markdown",
   "metadata": {
    "id": "m128Bk0j58FT"
   },
   "source": [
    "#### Nominal Variable Analysis\n",
    "\n",
    "- **Team**: Not all teams worked every day. The maximum days a team worked is 109, and the minimum days a team worked is 89.\n",
    "\n",
    "- **Department**: The majority of the data points come from the **sewing** department, suggesting sewing activities are more frequently recorded compared to **finishing activities**.\n",
    "\n",
    "- **Day**: Productivity data is fairly evenly distributed across weekdays. Slight variations show Wednesday has the highest activity, while Saturday has the least, likely reflecting weekly work patterns. There are no records of **Friday** indicating a holiday."
   ]
  },
  {
   "cell_type": "markdown",
   "metadata": {
    "id": "OKIDOoDZ5_UE"
   },
   "source": [
    "#### Ordinal Variable Analysis\n",
    "\n",
    "- **Quarter Distribution** (given each month is divided into four quarters): Most observations fall into the first 2 quarters, indicating that productivity data is more concentrated in the early days of each month. There is a **Quarter5** as well with very few records, which could be either an error or indicate rare overflow periods beyond the typical monthly structure, which was not mentioned in the data description."
   ]
  },
  {
   "cell_type": "markdown",
   "metadata": {
    "id": "HqcfgxwT7RCN"
   },
   "source": [
    "[Index](#Index)\n",
    "\n",
    "### Correlation Analysis\n",
    "\n",
    "Understanding the relationships between features."
   ]
  },
  {
   "cell_type": "code",
   "execution_count": 606,
   "metadata": {
    "colab": {
     "base_uri": "https://localhost:8080/",
     "height": 835
    },
    "id": "gqnaYvhYn__2",
    "outputId": "e4935e75-fcc8-4dc5-f296-37664a482e04"
   },
   "outputs": [
    {
     "data": {
      "image/png": "[encoded data removed]",
      "text/plain": [
       "<Figure size 1200x800 with 2 Axes>"
      ]
     },
     "metadata": {},
     "output_type": "display_data"
    }
   ],
   "source": [
    "# Plotting the Correlation matrix\n",
    "correlation_matrix = garment_data[numerical_cols + target_variable].corr()\n",
    "\n",
    "plt.figure(figsize=(12,8))\n",
    "sns.heatmap(correlation_matrix, annot=True, cmap='coolwarm', fmt=\".2f\", linewidths=0.5)\n",
    "plt.title('Correlation Matrix Heatmap')\n",
    "plt.show()"
   ]
  },
  {
   "cell_type": "markdown",
   "metadata": {
    "id": "i7lxl1v3-02b"
   },
   "source": [
    "#### Observations and Action Items\n",
    "\n",
    "**Correlated Features** (|r| > 0.5)\n",
    "- `smv` and `no_of_workers` have a very strong correlation (r = 0.91)\n",
    "- `idle_time` and `idle_men` are moderately correlated (r = 0.56).\n",
    "\n",
    "**Action Items**:\n",
    "\n",
    "- Will derive `smv_per_worker` to normalize task complexity against workforce size.\n",
    "- Will drop `smv` as it is highly correlated with `no_of_workers` and relatively less correlated with `productivity_met` (-0.16 and -0.25 respectively)\n",
    "- Will drop `idle_time` as raw idle time doesn't account for the team size or work hours, and will derive `idle_time / (idle_time + smv)` to get a normalized view of downtime. This ratio gives better comparability than just `idle_time`\n",
    "\n",
    "**Correlation with actual_productivity**\n",
    "\n",
    "- Will keep `wip` (r=-0.09): weakly correlated, but is worth testing as per domain knowledge (excess wip values lead to bottlenecks and overwhelming, hindering productivity)\n",
    "- Will keep `incentive` (r=-0.07): Weakly correlated, but is worth testing as per domain knowledge (impacts motivation, indirectly impacting productivity).\n",
    "- Will keep `no_of_style_change` (r=-0.01): weakly correlated, but is worth testing as per domain knowledge (style changes directly impact team workflow)"
   ]
  },
  {
   "cell_type": "markdown",
   "metadata": {
    "id": "tkpou6a7Ke5d"
   },
   "source": [
    "### Further analysis of the wip (work in progress) variable to finalize Imputation method"
   ]
  },
  {
   "cell_type": "markdown",
   "metadata": {
    "id": "g-NaIBw0KyPs"
   },
   "source": [
    "Exploring relations with categorical variables"
   ]
  },
  {
   "cell_type": "code",
   "execution_count": 611,
   "metadata": {
    "colab": {
     "base_uri": "https://localhost:8080/"
    },
    "id": "kK5wR-kUJXfK",
    "outputId": "1b1e0bc3-5841-49b9-8287-e6dd38c45946"
   },
   "outputs": [
    {
     "name": "stdout",
     "output_type": "stream",
     "text": [
      "\n",
      "\n",
      "Statistical Summary of 'wip' by 'quarter':\n",
      "\n",
      "          count         mean  median          std    min      max\n",
      "quarter                                                          \n",
      "Quarter1    211  1580.000000  1029.0  3249.698918   29.0  23122.0\n",
      "Quarter5     23  1182.956522  1170.0   313.056846  282.0   1601.0\n",
      "Quarter4    140  1091.178571  1090.0   397.522603   15.0   1871.0\n",
      "Quarter3    129  1029.728682  1057.0   381.164555    7.0   2120.0\n",
      "Quarter2    188   938.425532   964.5   331.103131   10.0   1674.0\n",
      "\n",
      "\n",
      "Statistical Summary of 'wip' by 'team':\n",
      "\n",
      "      count         mean  median          std    min      max\n",
      "team                                                         \n",
      "1        56  1609.196429  1418.0  2105.399150  171.0  16882.0\n",
      "10       57  1528.333333  1188.0  2717.815564   10.0  21540.0\n",
      "3        58  1409.293103  1129.0  2667.081452   11.0  21266.0\n",
      "2        57  1326.280702   928.0  2737.032568   12.0  21385.0\n",
      "9        58  1283.724138  1149.5  1088.338566   14.0   8992.0\n",
      "12       59  1259.915254  1069.0  1470.495475  470.0  12261.0\n",
      "4        59  1218.677966   864.0  2912.876872  287.0  23122.0\n",
      "7        55   999.509091   970.0   430.333414   29.0   2698.0\n",
      "8        56   984.375000  1074.0   362.145102    7.0   1557.0\n",
      "11       59   968.135593   749.0  1232.414402   13.0   9792.0\n",
      "6        59   936.559322   913.0   371.791853   52.0   2984.0\n",
      "5        58   773.741379   699.0   341.399368   15.0   1480.0\n",
      "\n",
      "\n",
      "Statistical Summary of 'wip' by 'department':\n",
      "\n",
      "            count         mean  median          std  min      max\n",
      "department                                                       \n",
      "sweing        691  1190.465991  1039.0  1837.455001  7.0  23122.0\n",
      "finishing       0          NaN     NaN          NaN  NaN      NaN\n",
      "\n",
      "\n",
      "Statistical Summary of 'wip' by 'day':\n",
      "\n",
      "           count         mean  median          std    min      max\n",
      "day                                                               \n",
      "Monday       116  2156.310345  1076.0  4295.640723    7.0  23122.0\n",
      "Sunday       116  1016.198276  1049.0   359.581670   12.0   1717.0\n",
      "Tuesday      118  1012.483051  1057.5   386.730095   13.0   2120.0\n",
      "Saturday     104  1003.019231  1033.0   299.203797  171.0   1606.0\n",
      "Thursday     118   974.025424   999.5   380.577776   10.0   1863.0\n",
      "Wednesday    119   973.773109   992.0   399.029574   11.0   1868.0\n"
     ]
    }
   ],
   "source": [
    "categorical_cols = ordinal_cols + nominal_cols\n",
    "\n",
    "#Calculating descriptive statistics of wip by different categories in each of the categorical variables.\n",
    "\n",
    "for var in categorical_cols:\n",
    "   print(f\"\\n\\nStatistical Summary of 'wip' by '{var}':\\n\")\n",
    "   summary = (\n",
    "       garment_data\n",
    "       .groupby(var)['wip']\n",
    "       .agg(['count', 'mean', 'median', 'std', 'min', 'max'])\n",
    "       .sort_values('mean', ascending=False)\n",
    "   )\n",
    "   print(summary)"
   ]
  },
  {
   "cell_type": "markdown",
   "metadata": {
    "id": "rjrBgLHhMQG5"
   },
   "source": [
    "**Imputation Strategy Summary**\n",
    "\n",
    "- All `wip` values are missing for the **Finishing department**, and none of the sewing department values are missing.\n",
    "- The items in the finishing department cannot logically be in the *work-in-progress* state, as it is the final production stage.\n",
    "- Therefore, these values are not missed randomly, instead representing `0`.\n",
    "\n",
    "Therefore, will impute all the missing values with `0`.\n"
   ]
  },
  {
   "cell_type": "markdown",
   "metadata": {
    "id": "uPHZ9ZeaHKje"
   },
   "source": [
    "[Index](#Index)\n",
    "\n",
    "## 4. Data Preprocessing"
   ]
  },
  {
   "cell_type": "code",
   "execution_count": 615,
   "metadata": {
    "colab": {
     "base_uri": "https://localhost:8080/"
    },
    "id": "vmkJCOH9v34B",
    "outputId": "45175f3b-7aa0-483c-db90-d64961ed0c1a"
   },
   "outputs": [
    {
     "data": {
      "text/plain": [
       "(1197, 13)"
      ]
     },
     "execution_count": 615,
     "metadata": {},
     "output_type": "execute_result"
    }
   ],
   "source": [
    "# Creating a copy of the data for preprocessing and transformations\n",
    "# so that the original dataset is not altered.\n",
    "garment_processed = garment_data.copy()\n",
    "garment_processed.shape"
   ]
  },
  {
   "cell_type": "markdown",
   "metadata": {
    "id": "QhCvP4qhUxqw"
   },
   "source": [
    "### Imputing Missing values"
   ]
  },
  {
   "cell_type": "code",
   "execution_count": 618,
   "metadata": {
    "colab": {
     "base_uri": "https://localhost:8080/"
    },
    "id": "Nz1B9ezhXWdr",
    "outputId": "bdeaee4d-14be-4a61-da1b-ef415d5866a4"
   },
   "outputs": [
    {
     "name": "stdout",
     "output_type": "stream",
     "text": [
      "Imputed 506 missing values in wip column with a value of 0\n"
     ]
    }
   ],
   "source": [
    "# replacing null values in wip column with 0\n",
    "wip_null_value_count= garment_processed['wip'].isnull().sum()\n",
    "garment_processed['wip'] = garment_processed['wip'].fillna(0)\n",
    "\n",
    "print(f\"Imputed {wip_null_value_count} missing values in wip column with a value of 0\")"
   ]
  },
  {
   "cell_type": "markdown",
   "metadata": {
    "id": "jnuFcN2SXqoy"
   },
   "source": [
    "### Feature Engineering"
   ]
  },
  {
   "cell_type": "markdown",
   "metadata": {
    "id": "BHa0c2rFYTbZ"
   },
   "source": [
    "#### Creating new variables based on the analysis done so far."
   ]
  },
  {
   "cell_type": "code",
   "execution_count": 622,
   "metadata": {
    "colab": {
     "base_uri": "https://localhost:8080/"
    },
    "id": "0eyADQx9nPJg",
    "outputId": "3a4dffc4-c562-4cd1-d2c0-f300c5187c9a"
   },
   "outputs": [
    {
     "name": "stdout",
     "output_type": "stream",
     "text": [
      "Data shape\n",
      "before adding new features: (1197, 13)\n",
      "after adding new features: (1197, 15)\n"
     ]
    }
   ],
   "source": [
    "print(\"Data shape\\nbefore adding new features:\", garment_processed.shape)\n",
    "\n",
    "# smv per worker\n",
    "garment_processed['smv_per_worker'] = garment_processed['smv'] / garment_processed['no_of_workers']\n",
    "\n",
    "# idle time ratio\n",
    "garment_processed['idle_time_ratio'] = garment_processed['idle_time']/(garment_processed['idle_time'] + garment_data['smv'])\n",
    "\n",
    "print(\"after adding new features:\", garment_processed.shape)"
   ]
  },
  {
   "cell_type": "markdown",
   "metadata": {
    "id": "EGn-o_PTYXSy"
   },
   "source": [
    "#### New variable: Incentive per worker\n",
    "\n",
    "A high total incentive might not mean much if the team size is large. Normalizing gives better insight and helps assess the effectiveness.\n",
    "\n",
    "`Incentive per worker = incentive / no_of_workers`\n",
    "\n",
    "`incentive` by itself reflects management intent, while `incentive_per_worker`  reflects motivation per person.\n"
   ]
  },
  {
   "cell_type": "code",
   "execution_count": 625,
   "metadata": {
    "colab": {
     "base_uri": "https://localhost:8080/"
    },
    "id": "3PfyxP0mUu5H",
    "outputId": "cbb3b6a4-8a39-4704-d8b3-4c80e7f55df0"
   },
   "outputs": [
    {
     "name": "stdout",
     "output_type": "stream",
     "text": [
      "Data shape after adding incentive_per_worker feature: (1197, 16)\n"
     ]
    }
   ],
   "source": [
    "# incentive per worker\n",
    "garment_processed['incentive_per_worker'] = garment_processed['incentive'] / garment_processed['no_of_workers']\n",
    "\n",
    "print(\"Data shape after adding incentive_per_worker feature:\", garment_processed.shape)"
   ]
  },
  {
   "cell_type": "markdown",
   "metadata": {
    "id": "Pszn2qhTbqIv"
   },
   "source": [
    "### Dropping unnecessary columns"
   ]
  },
  {
   "cell_type": "markdown",
   "metadata": {
    "id": "G3QEj8pXb3GZ"
   },
   "source": [
    "#### Date column"
   ]
  },
  {
   "cell_type": "code",
   "execution_count": 629,
   "metadata": {
    "colab": {
     "base_uri": "https://localhost:8080/"
    },
    "id": "6YnavYuodXvz",
    "outputId": "ef97b864-577d-44bb-d453-ca27083f2236"
   },
   "outputs": [
    {
     "name": "stdout",
     "output_type": "stream",
     "text": [
      "date\n",
      "2015    1197\n",
      "Name: count, dtype: int64\n"
     ]
    }
   ],
   "source": [
    "# Converting 'date' column to datetime format\n",
    "garment_processed['date'] = pd.to_datetime(garment_processed['date'])\n",
    "\n",
    "# Extracting the year and getting its distribution.\n",
    "print(garment_processed['date'].dt.year.value_counts())"
   ]
  },
  {
   "cell_type": "markdown",
   "metadata": {
    "id": "qY429aVBdW_G"
   },
   "source": [
    "- Raw dates are useful for modeling temporal dependencies like trends, lags, and seasonality. In this project, we do not require time series modeling, so keeping `date` would only add noise.\n",
    "\n",
    "- Additionally, its information is already captured by `quarter` and `day` variables, which reflect month seasonality and weekday effects.\n",
    "\n",
    "- And also, the dataset spans only for **one year** (2015), so raw dates offer no long-term temporal trends or dependencies."
   ]
  },
  {
   "cell_type": "code",
   "execution_count": 632,
   "metadata": {
    "colab": {
     "base_uri": "https://localhost:8080/"
    },
    "id": "TF5q9XHRd35l",
    "outputId": "558e19b8-2023-4e80-ebdb-df5d1bd36caf"
   },
   "outputs": [
    {
     "name": "stdout",
     "output_type": "stream",
     "text": [
      "Data shape\n",
      "before removing the date feature: (1197, 16)\n",
      "after removing date feature: (1197, 15)\n"
     ]
    }
   ],
   "source": [
    "# Dropping date column\n",
    "print(\"Data shape\\nbefore removing the date feature:\", garment_processed.shape)\n",
    "\n",
    "garment_processed = garment_processed.drop(columns='date')\n",
    "\n",
    "print(\"after removing date feature:\", garment_processed.shape)"
   ]
  },
  {
   "cell_type": "markdown",
   "metadata": {
    "id": "mj7it8k4eww1"
   },
   "source": [
    "#### Based on Correlation Analysis"
   ]
  },
  {
   "cell_type": "code",
   "execution_count": 635,
   "metadata": {
    "colab": {
     "base_uri": "https://localhost:8080/"
    },
    "id": "wW2V9Ui6eoeZ",
    "outputId": "bfd16fbf-4d1f-4fee-e70e-851ff2be1823"
   },
   "outputs": [
    {
     "name": "stdout",
     "output_type": "stream",
     "text": [
      "Data shape\n",
      "before dropping columns: (1197, 15)\n",
      "after dropping columns: (1197, 13)\n"
     ]
    }
   ],
   "source": [
    "print(\"Data shape\\nbefore dropping columns:\", garment_processed.shape)\n",
    "\n",
    "garment_processed = garment_processed.drop(['smv', 'idle_time'], axis=1)\n",
    "\n",
    "print(\"after dropping columns:\", garment_processed.shape)"
   ]
  },
  {
   "cell_type": "markdown",
   "metadata": {
    "id": "9gGIRLMXfVwR"
   },
   "source": [
    "### Encoding Categorical Variables\n",
    "\n",
    "Some machine learning models require numerical input, so categorical variables will be encoded accordingly"
   ]
  },
  {
   "cell_type": "markdown",
   "metadata": {
    "id": "OKsTQpsyu5KL"
   },
   "source": [
    "In this dataset, there are 4 categorical variables (not including the created target variable)\n",
    "\n",
    "If the categorical variables are **nominal**, then One-Hot encoding or Dummy encoding is applied.  \n",
    "If the categorical variables are **ordinal**, then Ordinal encoding is applied.\n",
    "\n",
    "1. **Nominal Variables:**\n",
    "      - department\n",
    "      - day\n",
    "      - team\n",
    "\n",
    "2. **Ordinal Variable:**\n",
    "    - **quarter**: with the order being: Quarter1 < Quarter2 < Quarter3 < Quarter4 < Quarter5 (*assumption*)"
   ]
  },
  {
   "cell_type": "markdown",
   "metadata": {
    "id": "lBg4eMFNyPNm"
   },
   "source": [
    "Ideally, as the number of unique categories in the team variable is more, dummy encoding is preferred. This reduces the number of newly generated columns and computational load to some extent."
   ]
  },
  {
   "cell_type": "code",
   "execution_count": 640,
   "metadata": {
    "id": "8lbm4Uwvzqlr"
   },
   "outputs": [],
   "source": [
    "# Dummy encoding for Nominal variables\n",
    "garment_encoded = pd.get_dummies(garment_processed,\n",
    "                                      columns=nominal_cols,\n",
    "                                      drop_first=True,\n",
    "                                      dtype='int32')"
   ]
  },
  {
   "cell_type": "code",
   "execution_count": 642,
   "metadata": {
    "colab": {
     "base_uri": "https://localhost:8080/"
    },
    "id": "kl_3UuErxa9y",
    "outputId": "a86bb983-facf-4867-89cd-708a787c4acb"
   },
   "outputs": [
    {
     "name": "stdout",
     "output_type": "stream",
     "text": [
      "quarter\n",
      "0.0    360\n",
      "1.0    335\n",
      "3.0    248\n",
      "2.0    210\n",
      "4.0     44\n",
      "Name: count, dtype: int64\n"
     ]
    }
   ],
   "source": [
    "# Ordinal encoding\n",
    "encoder = OrdinalEncoder(categories=[ordinal_order])\n",
    "garment_encoded['quarter'] = encoder.fit_transform(garment_encoded[['quarter']])\n",
    "\n",
    "print(garment_encoded[\"quarter\"].value_counts())"
   ]
  },
  {
   "cell_type": "code",
   "execution_count": 643,
   "metadata": {
    "colab": {
     "base_uri": "https://localhost:8080/"
    },
    "id": "_rhHOYQ8yoLy",
    "outputId": "3a599308-6758-4940-98fa-9ebe6d888e52"
   },
   "outputs": [
    {
     "name": "stdout",
     "output_type": "stream",
     "text": [
      "Data shape before encoding: (1197, 13) and after encoding: (1197, 27)\n",
      "Encoded columns preview:\n"
     ]
    },
    {
     "data": {
      "text/plain": [
       "['quarter',\n",
       " 'wip',\n",
       " 'incentive',\n",
       " 'idle_men',\n",
       " 'no_of_style_change',\n",
       " 'no_of_workers',\n",
       " 'productivity_met',\n",
       " 'smv_per_worker',\n",
       " 'idle_time_ratio',\n",
       " 'incentive_per_worker',\n",
       " 'team_2',\n",
       " 'team_3',\n",
       " 'team_4',\n",
       " 'team_5',\n",
       " 'team_6',\n",
       " 'team_7',\n",
       " 'team_8',\n",
       " 'team_9',\n",
       " 'team_10',\n",
       " 'team_11',\n",
       " 'team_12',\n",
       " 'department_sweing',\n",
       " 'day_Saturday',\n",
       " 'day_Sunday',\n",
       " 'day_Thursday',\n",
       " 'day_Tuesday',\n",
       " 'day_Wednesday']"
      ]
     },
     "execution_count": 643,
     "metadata": {},
     "output_type": "execute_result"
    }
   ],
   "source": [
    "# Checking the shape and column names after encoding\n",
    "print(f\"Data shape before encoding: {garment_processed.shape} and after encoding: {garment_encoded.shape}\")\n",
    "print(\"Encoded columns preview:\")\n",
    "garment_encoded.columns.to_list()"
   ]
  },
  {
   "cell_type": "markdown",
   "metadata": {
    "id": "Xzq8ZO_F02Ff"
   },
   "source": [
    "**Data cleaning and feature engineering** is completed using the following steps:\n",
    "\n",
    "- Identified and handled all missing data.\n",
    "- Target variable and 4 new features were created.\n",
    "- Irrelevant columns were dropped.\n",
    "- Identified categorical variables that need to be encoded and applied Dummy and Ordinal Encoding accordingly.\n",
    "\n",
    "The dataset is now ready to be split and scaled (if needed) for model building."
   ]
  },
  {
   "cell_type": "markdown",
   "metadata": {
    "id": "Pkmwkgjo0_vp"
   },
   "source": [
    "### Viewing the final dataset after encoding"
   ]
  },
  {
   "cell_type": "code",
   "execution_count": 648,
   "metadata": {
    "colab": {
     "base_uri": "https://localhost:8080/",
     "height": 226
    },
    "id": "SoVyuKBT7KYI",
    "outputId": "9a7e62bf-87ce-4634-f57e-17082f3fa9a7"
   },
   "outputs": [
    {
     "data": {
      "text/html": [
       "<div>\n",
       "<style scoped>\n",
       "    .dataframe tbody tr th:only-of-type {\n",
       "        vertical-align: middle;\n",
       "    }\n",
       "\n",
       "    .dataframe tbody tr th {\n",
       "        vertical-align: top;\n",
       "    }\n",
       "\n",
       "    .dataframe thead th {\n",
       "        text-align: right;\n",
       "    }\n",
       "</style>\n",
       "<table border=\"1\" class=\"dataframe\">\n",
       "  <thead>\n",
       "    <tr style=\"text-align: right;\">\n",
       "      <th></th>\n",
       "      <th>quarter</th>\n",
       "      <th>wip</th>\n",
       "      <th>incentive</th>\n",
       "      <th>idle_men</th>\n",
       "      <th>no_of_style_change</th>\n",
       "      <th>no_of_workers</th>\n",
       "      <th>productivity_met</th>\n",
       "      <th>smv_per_worker</th>\n",
       "      <th>idle_time_ratio</th>\n",
       "      <th>incentive_per_worker</th>\n",
       "      <th>team_2</th>\n",
       "      <th>team_3</th>\n",
       "      <th>team_4</th>\n",
       "      <th>team_5</th>\n",
       "      <th>team_6</th>\n",
       "      <th>team_7</th>\n",
       "      <th>team_8</th>\n",
       "      <th>team_9</th>\n",
       "      <th>team_10</th>\n",
       "      <th>team_11</th>\n",
       "      <th>team_12</th>\n",
       "      <th>department_sweing</th>\n",
       "      <th>day_Saturday</th>\n",
       "      <th>day_Sunday</th>\n",
       "      <th>day_Thursday</th>\n",
       "      <th>day_Tuesday</th>\n",
       "      <th>day_Wednesday</th>\n",
       "    </tr>\n",
       "  </thead>\n",
       "  <tbody>\n",
       "    <tr>\n",
       "      <th>0</th>\n",
       "      <td>0.0</td>\n",
       "      <td>1108.0</td>\n",
       "      <td>98</td>\n",
       "      <td>0</td>\n",
       "      <td>0</td>\n",
       "      <td>59.0</td>\n",
       "      <td>0</td>\n",
       "      <td>0.443390</td>\n",
       "      <td>0.0</td>\n",
       "      <td>1.661017</td>\n",
       "      <td>0</td>\n",
       "      <td>0</td>\n",
       "      <td>0</td>\n",
       "      <td>0</td>\n",
       "      <td>0</td>\n",
       "      <td>0</td>\n",
       "      <td>1</td>\n",
       "      <td>0</td>\n",
       "      <td>0</td>\n",
       "      <td>0</td>\n",
       "      <td>0</td>\n",
       "      <td>1</td>\n",
       "      <td>0</td>\n",
       "      <td>0</td>\n",
       "      <td>1</td>\n",
       "      <td>0</td>\n",
       "      <td>0</td>\n",
       "    </tr>\n",
       "    <tr>\n",
       "      <th>1</th>\n",
       "      <td>0.0</td>\n",
       "      <td>0.0</td>\n",
       "      <td>0</td>\n",
       "      <td>0</td>\n",
       "      <td>0</td>\n",
       "      <td>8.0</td>\n",
       "      <td>0</td>\n",
       "      <td>0.492500</td>\n",
       "      <td>0.0</td>\n",
       "      <td>0.000000</td>\n",
       "      <td>0</td>\n",
       "      <td>0</td>\n",
       "      <td>0</td>\n",
       "      <td>0</td>\n",
       "      <td>0</td>\n",
       "      <td>0</td>\n",
       "      <td>0</td>\n",
       "      <td>0</td>\n",
       "      <td>0</td>\n",
       "      <td>0</td>\n",
       "      <td>0</td>\n",
       "      <td>0</td>\n",
       "      <td>0</td>\n",
       "      <td>0</td>\n",
       "      <td>1</td>\n",
       "      <td>0</td>\n",
       "      <td>0</td>\n",
       "    </tr>\n",
       "    <tr>\n",
       "      <th>2</th>\n",
       "      <td>0.0</td>\n",
       "      <td>968.0</td>\n",
       "      <td>50</td>\n",
       "      <td>0</td>\n",
       "      <td>0</td>\n",
       "      <td>30.5</td>\n",
       "      <td>0</td>\n",
       "      <td>0.374098</td>\n",
       "      <td>0.0</td>\n",
       "      <td>1.639344</td>\n",
       "      <td>0</td>\n",
       "      <td>0</td>\n",
       "      <td>0</td>\n",
       "      <td>0</td>\n",
       "      <td>0</td>\n",
       "      <td>0</td>\n",
       "      <td>0</td>\n",
       "      <td>0</td>\n",
       "      <td>0</td>\n",
       "      <td>1</td>\n",
       "      <td>0</td>\n",
       "      <td>1</td>\n",
       "      <td>0</td>\n",
       "      <td>0</td>\n",
       "      <td>1</td>\n",
       "      <td>0</td>\n",
       "      <td>0</td>\n",
       "    </tr>\n",
       "    <tr>\n",
       "      <th>3</th>\n",
       "      <td>0.0</td>\n",
       "      <td>968.0</td>\n",
       "      <td>50</td>\n",
       "      <td>0</td>\n",
       "      <td>0</td>\n",
       "      <td>30.5</td>\n",
       "      <td>0</td>\n",
       "      <td>0.374098</td>\n",
       "      <td>0.0</td>\n",
       "      <td>1.639344</td>\n",
       "      <td>0</td>\n",
       "      <td>0</td>\n",
       "      <td>0</td>\n",
       "      <td>0</td>\n",
       "      <td>0</td>\n",
       "      <td>0</td>\n",
       "      <td>0</td>\n",
       "      <td>0</td>\n",
       "      <td>0</td>\n",
       "      <td>0</td>\n",
       "      <td>1</td>\n",
       "      <td>1</td>\n",
       "      <td>0</td>\n",
       "      <td>0</td>\n",
       "      <td>1</td>\n",
       "      <td>0</td>\n",
       "      <td>0</td>\n",
       "    </tr>\n",
       "    <tr>\n",
       "      <th>4</th>\n",
       "      <td>0.0</td>\n",
       "      <td>1170.0</td>\n",
       "      <td>50</td>\n",
       "      <td>0</td>\n",
       "      <td>0</td>\n",
       "      <td>56.0</td>\n",
       "      <td>0</td>\n",
       "      <td>0.462500</td>\n",
       "      <td>0.0</td>\n",
       "      <td>0.892857</td>\n",
       "      <td>0</td>\n",
       "      <td>0</td>\n",
       "      <td>0</td>\n",
       "      <td>0</td>\n",
       "      <td>1</td>\n",
       "      <td>0</td>\n",
       "      <td>0</td>\n",
       "      <td>0</td>\n",
       "      <td>0</td>\n",
       "      <td>0</td>\n",
       "      <td>0</td>\n",
       "      <td>1</td>\n",
       "      <td>0</td>\n",
       "      <td>0</td>\n",
       "      <td>1</td>\n",
       "      <td>0</td>\n",
       "      <td>0</td>\n",
       "    </tr>\n",
       "  </tbody>\n",
       "</table>\n",
       "</div>"
      ],
      "text/plain": [
       "   quarter     wip  incentive  idle_men  no_of_style_change  no_of_workers  \\\n",
       "0      0.0  1108.0         98         0                   0           59.0   \n",
       "1      0.0     0.0          0         0                   0            8.0   \n",
       "2      0.0   968.0         50         0                   0           30.5   \n",
       "3      0.0   968.0         50         0                   0           30.5   \n",
       "4      0.0  1170.0         50         0                   0           56.0   \n",
       "\n",
       "   productivity_met  smv_per_worker  idle_time_ratio  incentive_per_worker  \\\n",
       "0                 0        0.443390              0.0              1.661017   \n",
       "1                 0        0.492500              0.0              0.000000   \n",
       "2                 0        0.374098              0.0              1.639344   \n",
       "3                 0        0.374098              0.0              1.639344   \n",
       "4                 0        0.462500              0.0              0.892857   \n",
       "\n",
       "   team_2  team_3  team_4  team_5  team_6  team_7  team_8  team_9  team_10  \\\n",
       "0       0       0       0       0       0       0       1       0        0   \n",
       "1       0       0       0       0       0       0       0       0        0   \n",
       "2       0       0       0       0       0       0       0       0        0   \n",
       "3       0       0       0       0       0       0       0       0        0   \n",
       "4       0       0       0       0       1       0       0       0        0   \n",
       "\n",
       "   team_11  team_12  department_sweing  day_Saturday  day_Sunday  \\\n",
       "0        0        0                  1             0           0   \n",
       "1        0        0                  0             0           0   \n",
       "2        1        0                  1             0           0   \n",
       "3        0        1                  1             0           0   \n",
       "4        0        0                  1             0           0   \n",
       "\n",
       "   day_Thursday  day_Tuesday  day_Wednesday  \n",
       "0             1            0              0  \n",
       "1             1            0              0  \n",
       "2             1            0              0  \n",
       "3             1            0              0  \n",
       "4             1            0              0  "
      ]
     },
     "execution_count": 648,
     "metadata": {},
     "output_type": "execute_result"
    }
   ],
   "source": [
    "garment_encoded.head()"
   ]
  },
  {
   "cell_type": "markdown",
   "metadata": {
    "id": "9P3GgAiv_ZxW"
   },
   "source": [
    "### Train-Test Split"
   ]
  },
  {
   "cell_type": "markdown",
   "metadata": {
    "id": "4XY45jFiXZI_"
   },
   "source": [
    "We'll use the most commonly used split that works well for most cases: **80/20** split. This provides a large training set for the model while still leaving a sufficient test set to evaluate performance."
   ]
  },
  {
   "cell_type": "code",
   "execution_count": 225,
   "metadata": {
    "id": "STJiUcXCjdCe"
   },
   "outputs": [],
   "source": [
    "# Separating model features and target variables\n",
    "X = garment_encoded.drop(columns=['productivity_met'])\n",
    "y = garment_encoded[['productivity_met']]"
   ]
  },
  {
   "cell_type": "code",
   "execution_count": 227,
   "metadata": {
    "colab": {
     "base_uri": "https://localhost:8080/"
    },
    "id": "B34OUbK6XeVR",
    "outputId": "d4e67bee-d85b-466c-f329-e863563db50a"
   },
   "outputs": [
    {
     "name": "stdout",
     "output_type": "stream",
     "text": [
      "\n",
      "Training set size: 957\n",
      "Test set size: 240\n"
     ]
    }
   ],
   "source": [
    "# Splitting data into training and testing sets - using stratify=y\n",
    "X_train, X_test, y_train, y_test = train_test_split(X, y, test_size=0.2, random_state=7, stratify=y) # Stratify maintains class proportions\n",
    "\n",
    "print(f\"\\nTraining set size: {X_train.shape[0]}\")\n",
    "print(f\"Test set size: {X_test.shape[0]}\")"
   ]
  },
  {
   "cell_type": "code",
   "execution_count": 229,
   "metadata": {
    "id": "2djcG_Vt-KOB"
   },
   "outputs": [],
   "source": [
    "# Using ravel to turn y_train and y_test into 1D arrays for further processing\n",
    "y_train = y_train.values.ravel()\n",
    "y_test = y_test.values.ravel()"
   ]
  },
  {
   "cell_type": "markdown",
   "metadata": {
    "id": "MoZc5WhUAD-E"
   },
   "source": [
    "[Index](#Index)\n",
    "\n",
    "# Part 3. Model Building"
   ]
  },
  {
   "cell_type": "markdown",
   "metadata": {},
   "source": [
    "As the dataset has a 27:73 class split with a binary classification target, even a naive model is expected to predict only the majority class and still achieve about **73%** accuracy.\n",
    "\n",
    "- When it comes to evaluating the model, accuracy can be misleading and isn't the best metric for this dataset. Instead\n",
    "- **F1 score** could be a good metric to evaluate the model overall, as it balances precision and recall. Therefore, for hyperparameter tuning, we will be using `f1_score` for scoring (at default `threshold = 0.5`).\n",
    "\n",
    "- **Precision-Recall Curve**: Helps evaluate how well the model identifies the minority class (teams not meeting the target) and is more informative than ROC as the data is imbalanced. So, will plot only PR curve but not the ROC curve. "
   ]
  },
  {
   "cell_type": "markdown",
   "metadata": {
    "id": "LQHoUkbmFHwO"
   },
   "source": [
    "## 1. Logistic Regression\n",
    "We will be starting with the simple Logistic Regression model to establish\n",
    "baseline performance. A good starting point for binary classification, as it offers interpretability."
   ]
  },
  {
   "cell_type": "markdown",
   "metadata": {
    "id": "0dniuyoRnv0b"
   },
   "source": [
    "### Scaling"
   ]
  },
  {
   "cell_type": "markdown",
   "metadata": {
    "id": "PSBEMhyDsUOl"
   },
   "source": [
    "- Logistic Regression is sensitive to feature scale, especially when using regularization (L1 or L2), which penalizes coefficients uniformly.\n",
    "- Unscaled features distort the cost function, allowing high-range features to dominate, which slows down convergence and may lead to biased or suboptimal models.\n",
    "- Scaling ensures fair regularization and faster optimization, while also making model coefficients more interpretable by putting all features on a comparable scale.\n",
    "- Ordinal variables, along with numerical variables, can be scaled in this scenario, as they are equally spaced.\n",
    "- **Standardization** is used to scale the data after splitting to prevent data leakage."
   ]
  },
  {
   "cell_type": "code",
   "execution_count": 236,
   "metadata": {
    "colab": {
     "base_uri": "https://localhost:8080/"
    },
    "id": "-8BndCchn02V",
    "outputId": "879e8931-857f-4e4b-d89a-4baebbc7889c"
   },
   "outputs": [
    {
     "name": "stdout",
     "output_type": "stream",
     "text": [
      "Numerical columns have been standardized after splitting.\n"
     ]
    }
   ],
   "source": [
    "# Copying training data for scaling\n",
    "X_train_scaled= X_train.copy()\n",
    "X_test_scaled = X_test.copy()\n",
    "\n",
    "# Defining columns to be standardized\n",
    "scaling_cols = ['quarter','wip','incentive',\n",
    " 'idle_men', 'no_of_style_change', 'smv_per_worker',\n",
    " 'idle_time_ratio', 'incentive_per_worker']\n",
    "\n",
    "# Initializing the scaler\n",
    "scaler = StandardScaler()\n",
    "\n",
    "# Fitting the scaler on the training data\n",
    "X_train_scaled[scaling_cols] = scaler.fit_transform(X_train_scaled[scaling_cols])\n",
    "\n",
    "# Applying the scaler to the test data\n",
    "X_test_scaled[scaling_cols] = scaler.transform(X_test_scaled[scaling_cols])\n",
    "\n",
    "print(\"Numerical columns have been standardized after splitting.\")"
   ]
  },
  {
   "cell_type": "markdown",
   "metadata": {
    "id": "-MPSvQBaqv2p"
   },
   "source": [
    "### Hyperparameter Tuning"
   ]
  },
  {
   "cell_type": "markdown",
   "metadata": {
    "id": "8Euf2FbssXEX"
   },
   "source": [
    "We will be tuning the following parameters using `GridSearchCV` to find the best set of parameters.\n",
    "\n",
    "- **penalty**: `l1` and `l2` for sparsity and stability respectively.\n",
    "- **C (Regularization strength)**: As such, there is no industry standard for the regularization parameter values to try out. Therefore, using the following values to ensure a broader search space: `[0.001, 0.01,0.1, 1, 10, 100,1000]`\n",
    "- **solver**: `liblinear` (good for small datasets) and `saga` (flexible and handles sparse data) - supports `l1` & `l2`\n",
    "- **class_weight**: `balanced` handles class imbalance automatically. But, wanted to try even without it (`None`) to avoid overfitting as the data is moderately imbalanced.\n",
    "\n",
    "As the data is imbalanced, `Stratified K-Fold` is needed for cross-validation. `GridSearchCV` by default uses `Stratified K-Fold` as this is a classification problem."
   ]
  },
  {
   "cell_type": "code",
   "execution_count": 254,
   "metadata": {
    "colab": {
     "base_uri": "https://localhost:8080/"
    },
    "id": "tQnYlqwnqwIX",
    "outputId": "1ca02830-a9d1-401c-ba47-e84723f44ad9"
   },
   "outputs": [
    {
     "name": "stdout",
     "output_type": "stream",
     "text": [
      "\n",
      "--- Starting GridSearchCV for Logistic Regression model ---\n",
      "Fitting 10 folds for each of 56 candidates, totalling 560 fits\n",
      "Best parameters for Logistic Regression: {'C': 1000, 'class_weight': 'balanced', 'penalty': 'l1', 'solver': 'liblinear'}\n"
     ]
    }
   ],
   "source": [
    "# Initializing the Logistic Regression model\n",
    "lr = LogisticRegression(max_iter=10000, # increased iterations for convergence\n",
    "                        random_state=7)\n",
    "\n",
    "# Parameter grid\n",
    "param_grid_lr = {\n",
    "    'penalty': ['l1', 'l2'],                     # Test both regularization types\n",
    "    'C': [0.001, 0.01, 0.1, 1, 10, 100, 1000],   # Wider range for fine-tuning\n",
    "    'solver': ['liblinear', 'saga'],             # Solvers that support L1/L2\n",
    "    'class_weight': [None, 'balanced']           # Handles class imbalance\n",
    "}\n",
    "\n",
    "\n",
    "# Grid search with 10-fold CV (stratified folds applied by default)\n",
    "grid_search_lr = GridSearchCV(\n",
    "    lr,\n",
    "    param_grid_lr,\n",
    "    cv=10,\n",
    "    scoring='f1',  # as data is imbalanced \n",
    "    n_jobs=-1,\n",
    "    verbose=1,     # Progress bar visibility for monitoring\n",
    ")\n",
    "\n",
    "print(\"\\n--- Starting GridSearchCV for Logistic Regression model ---\")\n",
    "\n",
    "# Fitting the grid search on training data\n",
    "grid_search_lr.fit(X_train_scaled, y_train)\n",
    "\n",
    "# Best parameters\n",
    "print(\"Best parameters for Logistic Regression:\", grid_search_lr.best_params_)"
   ]
  },
  {
   "cell_type": "code",
   "execution_count": 259,
   "metadata": {},
   "outputs": [
    {
     "name": "stdout",
     "output_type": "stream",
     "text": [
      "Best Cross-Validation f1-score:\n",
      " 0.5539\n"
     ]
    }
   ],
   "source": [
    "# Print the best cross-validation score found\n",
    "print(f\"Best Cross-Validation f1-score:\\n {grid_search_lr.best_score_:.4f}\")"
   ]
  },
  {
   "cell_type": "markdown",
   "metadata": {
    "id": "Lt3p-u89n1D2"
   },
   "source": [
    "### Fitting model using the best parameters from grid search"
   ]
  },
  {
   "cell_type": "code",
   "execution_count": 262,
   "metadata": {
    "id": "cIa3IJuFqwLM"
   },
   "outputs": [],
   "source": [
    "# Logistic Regression model with the best parameters\n",
    "best_lr = grid_search_lr.best_estimator_\n",
    "\n",
    "# Predicting on test set.\n",
    "y_pred_lr = best_lr.predict(X_test_scaled)"
   ]
  },
  {
   "cell_type": "markdown",
   "metadata": {
    "id": "z6acnEGaUu_d"
   },
   "source": [
    "### Generating PR Curve"
   ]
  },
  {
   "cell_type": "code",
   "execution_count": 283,
   "metadata": {
    "id": "LXZUU1NGT3TQ"
   },
   "outputs": [],
   "source": [
    "# Using the tuned classifier to predict class probabilities for the test set\n",
    "# We need the probabilities only for the negative class (class 1).\n",
    "\n",
    "y_pred_proba_lr = best_lr.predict_proba(X_test_scaled)[:, 1]"
   ]
  },
  {
   "cell_type": "code",
   "execution_count": 285,
   "metadata": {
    "colab": {
     "base_uri": "https://localhost:8080/",
     "height": 564
    },
    "id": "VCfp8cS1it-H",
    "outputId": "63b5b4bb-61c1-45dd-d3ce-d27b298db9c1"
   },
   "outputs": [
    {
     "data": {
      "image/png": "[encoded data removed]",
      "text/plain": [
       "<Figure size 800x600 with 1 Axes>"
      ]
     },
     "metadata": {},
     "output_type": "display_data"
    }
   ],
   "source": [
    "# Calculating precision, recall, and thresholds using precision_recall_curve\n",
    "precision_points_lr, recall_points_lr, thresholds_pr_lr = precision_recall_curve(y_test, y_pred_proba_lr)\n",
    "\n",
    "# Calculating Area Under the PR Curve (AUC-PR) using average_precision_score\n",
    "auc_pr_lr = average_precision_score(y_test, y_pred_proba_lr)\n",
    "\n",
    "# Plotting the PR curve\n",
    "plt.figure(figsize=(8, 6))\n",
    "plt.plot(recall_points_lr, precision_points_lr, marker='.', label=f'Logistic Regression (AUC-PR = {auc_pr_lr:.3f})')\n",
    "\n",
    "# Plotting the baseline (random guessing) for comparison as the data is imbalanced\n",
    "baseline = np.sum(y_test ==1) / len(y_test)\n",
    "plt.plot([0, 1], [baseline, baseline], linestyle='--', label=f'Baseline (Precision = {baseline:.3f})')\n",
    "\n",
    "plt.title('Logistic Regression Precision-Recall Curve')\n",
    "plt.xlabel('Recall (True Positive Rate)')\n",
    "plt.ylabel('Precision')\n",
    "plt.legend()\n",
    "plt.grid(True)\n",
    "plt.show()"
   ]
  },
  {
   "cell_type": "markdown",
   "metadata": {
    "id": "UfxkrgOXWXwk"
   },
   "source": [
    "### Interpretation"
   ]
  },
  {
   "cell_type": "code",
   "execution_count": 288,
   "metadata": {
    "colab": {
     "base_uri": "https://localhost:8080/"
    },
    "id": "Oedc5TOtWeE9",
    "outputId": "2e3b1637-5853-4387-c557-a3e3c66bd52f"
   },
   "outputs": [
    {
     "name": "stdout",
     "output_type": "stream",
     "text": [
      "Baseline Precision: 0.2708\n",
      "Logistic Regression Area Under PR Curve (Average Precision): 0.5822\n"
     ]
    }
   ],
   "source": [
    "print(f\"Baseline Precision: {baseline:.4f}\")\n",
    "print(f'Logistic Regression Area Under PR Curve (Average Precision): {auc_pr_lr:.4f}')"
   ]
  },
  {
   "cell_type": "markdown",
   "metadata": {
    "id": "CDaqiBGFWoSC"
   },
   "source": [
    "**AUC-PR (Average Precision) = 0.5822**\n",
    "- The model's ability to distinguish at-risk teams (class 1) is moderate.\n",
    "- Model average precision is more than 2 times higher than the **Baseline Precision of 0.27**, indicating it captures meaningful signals.\n",
    "- The curve is above the baseline but flattens quickly, indicating that higher recall would drastically reduce precision (more false positives)"
   ]
  },
  {
   "cell_type": "markdown",
   "metadata": {},
   "source": [
    "### Optimal point threshold calculation\n",
    "\n",
    "As f1-score balances both Precision and Recall, the optimal point will be the point with the best f1-score. "
   ]
  },
  {
   "cell_type": "code",
   "execution_count": 345,
   "metadata": {},
   "outputs": [],
   "source": [
    "# f1-score as evaluation metric\n",
    "f1_scores_lr = (2 * precision_points_lr * recall_points_lr) / (precision_points_lr + recall_points_lr + 1e-9)\n",
    "best_idx_lr = np.argmax(f1_scores_lr) \n",
    "best_threshold_lr = thresholds_pr_lr[best_idx_lr]     # Threshold at optimal point"
   ]
  },
  {
   "cell_type": "code",
   "execution_count": 347,
   "metadata": {},
   "outputs": [
    {
     "name": "stdout",
     "output_type": "stream",
     "text": [
      "Best Threshold for Logistic Regression: 0.504\n"
     ]
    }
   ],
   "source": [
    "print(f\"Best Threshold for Logistic Regression: {best_threshold_lr:.3f}\")"
   ]
  },
  {
   "cell_type": "markdown",
   "metadata": {},
   "source": [
    "### Evaluation Metrics (Threshold = 0.504)"
   ]
  },
  {
   "cell_type": "code",
   "execution_count": 527,
   "metadata": {
    "colab": {
     "base_uri": "https://localhost:8080/",
     "height": 788
    },
    "id": "cMXFtqZPAjGZ",
    "outputId": "67eb015e-b8a9-4f59-d280-0798d27a9242"
   },
   "outputs": [
    {
     "name": "stdout",
     "output_type": "stream",
     "text": [
      "Evaluation metrics - Logistic Regression\n",
      "Logistic Regression Metrics:\n",
      "Accuracy: 0.7375\n",
      "Precision: 0.5093\n",
      "Recall: 0.8462\n",
      "F1 Score: 0.6358\n"
     ]
    },
    {
     "data": {
      "image/png": "[encoded data removed]",
      "text/plain": [
       "<Figure size 640x480 with 2 Axes>"
      ]
     },
     "metadata": {},
     "output_type": "display_data"
    },
    {
     "name": "stdout",
     "output_type": "stream",
     "text": [
      "\n",
      "Logisitic Regression - Classification Report: \n",
      "              precision    recall  f1-score   support\n",
      "\n",
      "           0       0.92      0.70      0.79       175\n",
      "           1       0.51      0.85      0.64        65\n",
      "\n",
      "    accuracy                           0.74       240\n",
      "   macro avg       0.72      0.77      0.72       240\n",
      "weighted avg       0.81      0.74      0.75       240\n",
      "\n"
     ]
    }
   ],
   "source": [
    "# Applying threshold \n",
    "y_pred_threshold_lr = (y_pred_proba_lr >= best_threshold_lr).astype(int)\n",
    "\n",
    "# Performance Metrics\n",
    "accuracy_lr = accuracy_score(y_test, y_pred_threshold_lr)\n",
    "precision_lr = precision_score(y_test, y_pred_threshold_lr)\n",
    "recall_lr = recall_score(y_test, y_pred_threshold_lr)\n",
    "f1_lr = f1_score(y_test, y_pred_threshold_lr)\n",
    "\n",
    "print('Evaluation metrics - Logistic Regression')\n",
    "print(f\"Logistic Regression Metrics:\")\n",
    "print(f\"Accuracy: {accuracy_lr:.4f}\")\n",
    "print(f\"Precision: {precision_lr:.4f}\")\n",
    "print(f\"Recall: {recall_lr:.4f}\")\n",
    "print(f\"F1 Score: {f1_lr:.4f}\")\n",
    "\n",
    "# Confusion matrix\n",
    "cm_lr = confusion_matrix(y_test, y_pred_threshold_lr)\n",
    "disp_lr = ConfusionMatrixDisplay(confusion_matrix=cm_lr)\n",
    "disp_lr.plot(cmap=\"Greens\")\n",
    "plt.title(\"\\nLogistic Regression Confusion Matrix\")\n",
    "plt.show()\n",
    "\n",
    "# classification report\n",
    "cr_lr = classification_report(y_test, y_pred_threshold_lr)\n",
    "\n",
    "print('\\nLogisitic Regression - Classification Report: ')\n",
    "print(cr_lr)"
   ]
  },
  {
   "cell_type": "markdown",
   "metadata": {
    "id": "NxOBgvF8FJBn"
   },
   "source": [
    "[Index](#Index)\n",
    "\n",
    "## 2. Random Forest\n",
    "\n",
    "A more powerful model that can capture non-linear relationships and can better handle interactions between features.\n",
    "\n",
    "No need for scaling of variables."
   ]
  },
  {
   "cell_type": "markdown",
   "metadata": {
    "id": "j4cKCffTsrmL"
   },
   "source": [
    "### Hyperparameter Tuning"
   ]
  },
  {
   "cell_type": "markdown",
   "metadata": {
    "id": "AMeY9JPKsruw"
   },
   "source": [
    "We will be tuning the following parameters using `GridSearchCV` to find the best set of parameters.\n",
    "\n",
    "- **n_estimators**: More trees reduce variance (overfitting), but increase compute time. As per the data size, computational resources, and time, `[50, 100, 200, 300]` is chosen.\n",
    "- **max_depth**: `[10, 20, 30]` - Controls tree complexity as deeper trees may overfit. We would like ot include `None` as well to let trees grow fully.\n",
    "- **min_samples_split**: We will try: `[2,5,10]`, to detect patterns in the minority class. >10 will result in over-simplified trees for this dataset size.\n",
    "- **min_samples_leaf**: As per the dataset size, will try: `[1,3,5]`, ensuring that the leaves have enough samples to represent both classes.\n",
    "- **class_weight**: Even though the moderate imbalance in the dataset will be handled well by the model, we would like to address it by penalizing misclassification. So, will go with `[None, 'balanced']` where `balanced` auto-adjusts weights inversely proportional to class frequencies.\n",
    "- **max_features**: `sqrt` (default), `log2` work well for high-dimensional data (29 features), and will include values like `0.8`, which can sometimes improve performance."
   ]
  },
  {
   "cell_type": "code",
   "execution_count": 314,
   "metadata": {
    "colab": {
     "base_uri": "https://localhost:8080/"
    },
    "id": "YJnnW3purkt_",
    "outputId": "e6f6b904-f95c-4716-ef4d-c89901ddeff4"
   },
   "outputs": [
    {
     "name": "stdout",
     "output_type": "stream",
     "text": [
      "\n",
      "--- Starting GridSearchCV for Random Forest model ---\n",
      "Fitting 5 folds for each of 864 candidates, totalling 4320 fits\n",
      "Best parameters for Random Forest: {'class_weight': 'balanced', 'max_depth': None, 'max_features': 'sqrt', 'min_samples_leaf': 3, 'min_samples_split': 2, 'n_estimators': 100}\n"
     ]
    }
   ],
   "source": [
    "# Initializing the Random Forest model\n",
    "rf = RandomForestClassifier(random_state=7, n_jobs=-1)\n",
    "\n",
    "# Parameter grid\n",
    "\n",
    "param_grid_rf = {\n",
    "    'n_estimators': [50, 100, 200, 300],\n",
    "    'max_depth': [None, 10, 20, 30],\n",
    "    'min_samples_split': [2,5,10],\n",
    "    'min_samples_leaf': [1,3,5],\n",
    "    'class_weight': [None, 'balanced'],\n",
    "    'max_features': ['sqrt', 'log2', 0.8],\n",
    "}\n",
    "\n",
    "# Grid search with 5-fold CV (stratified folds applied by default)\n",
    "grid_search_rf = GridSearchCV(\n",
    "    rf,\n",
    "    param_grid_rf,\n",
    "    cv=5,\n",
    "    scoring='f1',   # as data is imbalanced\n",
    "    n_jobs=-1,      # uses all available processors\n",
    "    verbose=1,      # Progress bar visibility for monitoring\n",
    ")\n",
    "\n",
    "print(\"\\n--- Starting GridSearchCV for Random Forest model ---\")\n",
    "\n",
    "# Fitting the grid search on training data\n",
    "grid_search_rf.fit(X_train, y_train)\n",
    "\n",
    "# Best parameters\n",
    "print(\"Best parameters for Random Forest:\", grid_search_rf.best_params_)"
   ]
  },
  {
   "cell_type": "code",
   "execution_count": 371,
   "metadata": {
    "colab": {
     "base_uri": "https://localhost:8080/"
    },
    "id": "ZXt__jc2Uc5b",
    "outputId": "2bed89a0-9f2a-4d68-a16c-ccbc3950f182"
   },
   "outputs": [
    {
     "name": "stdout",
     "output_type": "stream",
     "text": [
      "Best Cross-Validation f1-score:\n",
      " 0.6419\n"
     ]
    }
   ],
   "source": [
    "# Print best cross-validation score found\n",
    "print(f\"Best Cross-Validation f1-score:\\n {grid_search_rf.best_score_:.4f}\")"
   ]
  },
  {
   "cell_type": "markdown",
   "metadata": {},
   "source": [
    "### Fitting model using the best parameters from grid search"
   ]
  },
  {
   "cell_type": "code",
   "execution_count": 325,
   "metadata": {
    "id": "b7owloiq0mqj"
   },
   "outputs": [],
   "source": [
    "# Random Forest model with the best parameters\n",
    "best_model_rf = grid_search_rf.best_estimator_\n",
    "\n",
    "# Predicting on test set.\n",
    "y_pred_rf = best_model_rf.predict(X_test)"
   ]
  },
  {
   "cell_type": "markdown",
   "metadata": {
    "id": "L824imdw1MC8"
   },
   "source": [
    "### Generating PR Curve"
   ]
  },
  {
   "cell_type": "code",
   "execution_count": 327,
   "metadata": {
    "id": "lkDiMJfXfKik"
   },
   "outputs": [],
   "source": [
    "# Using the tuned classifier to predict class probabilities for the test set\n",
    "# We need the probabilities only for the negative class (class 1).\n",
    "\n",
    "y_pred_proba_rf = best_model_rf.predict_proba(X_test)[:, 1]"
   ]
  },
  {
   "cell_type": "code",
   "execution_count": 329,
   "metadata": {
    "colab": {
     "base_uri": "https://localhost:8080/",
     "height": 564
    },
    "id": "JN_ASFhw1MLA",
    "outputId": "a4c8b550-ea17-4861-a4a2-d7b167902b0e"
   },
   "outputs": [
    {
     "data": {
      "image/png": "[encoded data removed]",
      "text/plain": [
       "<Figure size 800x600 with 1 Axes>"
      ]
     },
     "metadata": {},
     "output_type": "display_data"
    }
   ],
   "source": [
    "# Calculating precision, recall, and thresholds using precision_recall_curve\n",
    "precision_points_rf, recall_points_rf, thresholds_pr_rf = precision_recall_curve(y_test, y_pred_proba_rf)\n",
    "\n",
    "# Calculating Area Under the PR Curve (AUC-PR) using average_precision_score\n",
    "auc_pr_rf = average_precision_score(y_test, y_pred_proba_rf)\n",
    "\n",
    "# Plotting the PR curve\n",
    "plt.figure(figsize=(8, 6))\n",
    "plt.plot(recall_points_rf, precision_points_rf, marker='.', label=f'Random Forest (AUC-PR = {auc_pr_rf:.3f})')\n",
    "\n",
    "# Plotting the baseline (random guessing) for comparison as the data is imbalanced\n",
    "baseline = np.sum(y_test ==1) / len(y_test)\n",
    "plt.plot([0, 1], [baseline, baseline], linestyle='--', label=f'Baseline (Precision = {baseline:.3f})')\n",
    "\n",
    "plt.title('Random Forest Precision-Recall Curve')\n",
    "plt.xlabel('Recall (True Positive Rate)')\n",
    "plt.ylabel('Precision')\n",
    "plt.legend()\n",
    "plt.grid(True)\n",
    "plt.show()"
   ]
  },
  {
   "cell_type": "markdown",
   "metadata": {
    "id": "pRFg0grm16aV"
   },
   "source": [
    "### Interpretation of PR curve"
   ]
  },
  {
   "cell_type": "code",
   "execution_count": 331,
   "metadata": {
    "colab": {
     "base_uri": "https://localhost:8080/"
    },
    "id": "jgM9eo5S2C75",
    "outputId": "156aa693-f3a6-4634-963a-d936e5ba657d"
   },
   "outputs": [
    {
     "name": "stdout",
     "output_type": "stream",
     "text": [
      "Baseline Precision: 0.2708\n",
      "Random Forest Area Under PR Curve (Average Precision): 0.6741\n"
     ]
    }
   ],
   "source": [
    "print(f\"Baseline Precision: {baseline:.4f}\")\n",
    "print(f'Random Forest Area Under PR Curve (Average Precision): {auc_pr_rf:.4f}')"
   ]
  },
  {
   "cell_type": "markdown",
   "metadata": {},
   "source": [
    "**AUC-PR (Average Precision) = 0.6474**\n",
    "- The model's ability to distinguish at-risk teams (class 1) is moderate.\n",
    "- Model average precision is significantly higher than the **Baseline Precision of 0.27**, indicating it captures meaningful signals.\n",
    "- The curve is above the baseline but flattens quickly, indicating that higher recall would drastically reduce precision (more false positives)"
   ]
  },
  {
   "cell_type": "markdown",
   "metadata": {},
   "source": [
    "### Optimal point threshold calculation\n",
    "\n",
    "As f1-score balances both Precision and Recall, the optimal point will be the point with the best f1-score. "
   ]
  },
  {
   "cell_type": "code",
   "execution_count": 341,
   "metadata": {},
   "outputs": [],
   "source": [
    "# f1-score as evaluation metric\n",
    "f1_scores_rf = (2 * precision_points_rf * recall_points_rf) / (precision_points_rf + recall_points_rf + 1e-9)\n",
    "best_idx_rf = np.argmax(f1_scores_rf) \n",
    "best_threshold_rf = thresholds_pr_rf[best_idx_rf]     # Threshold at optimal point"
   ]
  },
  {
   "cell_type": "code",
   "execution_count": 343,
   "metadata": {
    "id": "ZjDf-Ri-2EVu"
   },
   "outputs": [
    {
     "name": "stdout",
     "output_type": "stream",
     "text": [
      "Best Threshold for Random Forest: 0.475\n"
     ]
    }
   ],
   "source": [
    "print(f\"Best Threshold for Random Forest: {best_threshold_rf:.3f}\")"
   ]
  },
  {
   "cell_type": "markdown",
   "metadata": {
    "id": "GcS7hTXHFsS6"
   },
   "source": [
    "### Evaluation Metrics (Threshold = 0.475)"
   ]
  },
  {
   "cell_type": "code",
   "execution_count": 350,
   "metadata": {
    "colab": {
     "base_uri": "https://localhost:8080/",
     "height": 788
    },
    "id": "LufVARirzuvq",
    "outputId": "0de8124d-6ed1-4f74-8f90-ad43e7484138"
   },
   "outputs": [
    {
     "name": "stdout",
     "output_type": "stream",
     "text": [
      "Evaluation metrics - Random Forest\n",
      "Random Forest Metrics:\n",
      "Accuracy: 0.7833\n",
      "Precision: 0.5802\n",
      "Recall: 0.7231\n",
      "F1 Score: 0.6438\n"
     ]
    },
    {
     "data": {
      "image/png": "[encoded data removed]",
      "text/plain": [
       "<Figure size 640x480 with 2 Axes>"
      ]
     },
     "metadata": {},
     "output_type": "display_data"
    },
    {
     "name": "stdout",
     "output_type": "stream",
     "text": [
      "\n",
      "Random Forest - Classification Report: \n",
      "              precision    recall  f1-score   support\n",
      "\n",
      "           0       0.89      0.81      0.84       175\n",
      "           1       0.58      0.72      0.64        65\n",
      "\n",
      "    accuracy                           0.78       240\n",
      "   macro avg       0.73      0.76      0.74       240\n",
      "weighted avg       0.80      0.78      0.79       240\n",
      "\n"
     ]
    }
   ],
   "source": [
    "# Applying threshold \n",
    "y_pred_threshold_rf = (y_pred_proba_rf >= best_threshold_rf).astype(int)\n",
    "\n",
    "# Performance Metrics\n",
    "accuracy_rf = accuracy_score(y_test, y_pred_threshold_rf)\n",
    "precision_rf = precision_score(y_test, y_pred_threshold_rf)\n",
    "recall_rf = recall_score(y_test, y_pred_threshold_rf)\n",
    "f1_rf = f1_score(y_test, y_pred_threshold_rf)\n",
    "\n",
    "print('Evaluation metrics - Random Forest')\n",
    "print(f\"Random Forest Metrics:\")\n",
    "print(f\"Accuracy: {accuracy_rf:.4f}\")\n",
    "print(f\"Precision: {precision_rf:.4f}\")\n",
    "print(f\"Recall: {recall_rf:.4f}\")\n",
    "print(f\"F1 Score: {f1_rf:.4f}\")\n",
    "\n",
    "# Confusion matrix\n",
    "cm_rf = confusion_matrix(y_test, y_pred_threshold_rf)\n",
    "disp_cm_rf = ConfusionMatrixDisplay(confusion_matrix=cm_rf)\n",
    "disp_cm_rf.plot(cmap=\"Greens\")\n",
    "plt.title(\"\\nRandom Forest Confusion Matrix\")\n",
    "plt.show()\n",
    "\n",
    "# classification report\n",
    "cr_rf = classification_report(y_test, y_pred_threshold_rf)\n",
    "\n",
    "print('\\nRandom Forest - Classification Report: ')\n",
    "print(cr_rf)"
   ]
  },
  {
   "cell_type": "markdown",
   "metadata": {
    "id": "ZD3v2NXFFJhK"
   },
   "source": [
    "[Index](#Index)\n",
    "\n",
    "## 3. Gradient Boost Models - LightGBM\n",
    "\n",
    "Out of all Gradient Boost models, LightGBM is ideal for fast and high-performing binary classification, especially when dealing with class imbalance and small-to-medium tabular data because:\n",
    "\n",
    "- LightGBM's leaf-wise tree growth trains 3–5x faster than XGBoost. Efficient during grid search iterations i.e., quicker hyperparameter tuning.\n",
    "- Better Imbalance Handling: Offers both `scale_pos_weight` (like XGBoost) and `is_unbalance=True` (auto-adjusts weights)\n",
    "- LightGBM handles categorical features natively (no need for one-hot encoding).\n",
    "- Delivers high F1-score and AUC-PR on imbalanced data.\n",
    "- Regularization options like `num_leaves` and `min_data_in_leaf` reduce overfitting.\n",
    "\n",
    "Therefore, will go ahead with `LightGBM`\n"
   ]
  },
  {
   "cell_type": "markdown",
   "metadata": {
    "id": "yTCYEXdsJwGL"
   },
   "source": [
    "### Train-Test Split"
   ]
  },
  {
   "cell_type": "markdown",
   "metadata": {
    "id": "yGq5XBbVJwGM"
   },
   "source": [
    "As LightGBM can handle categorical features, there is no need for one-hot encoding. So, will use the cleaned-up dataset `garment_processed`, which has no encodings for building this model.\n",
    "\n",
    "We'll use the most commonly used split that works well for most cases: **80/20** split. This provides a large training set for the model while still leaving a sufficient test set to evaluate performance."
   ]
  },
  {
   "cell_type": "code",
   "execution_count": 357,
   "metadata": {
    "id": "zTVeA5aRJwGM"
   },
   "outputs": [],
   "source": [
    "# Separating model features and target variables\n",
    "X_lgbm = garment_processed.drop(columns=['productivity_met'])\n",
    "y_lgbm = garment_processed[['productivity_met']]\n",
    "\n",
    "# for LightGBM to recognize categorical variables\n",
    "for col in categorical_cols:\n",
    "    X_lgbm[col] = X_lgbm[col].astype('category')"
   ]
  },
  {
   "cell_type": "code",
   "execution_count": 359,
   "metadata": {
    "colab": {
     "base_uri": "https://localhost:8080/"
    },
    "id": "3DoxGAoSJwGM",
    "outputId": "7e2b87bf-f891-4999-e53f-a7c54c31d831"
   },
   "outputs": [
    {
     "name": "stdout",
     "output_type": "stream",
     "text": [
      "\n",
      "Training set size: 957\n",
      "Test set size: 240\n"
     ]
    }
   ],
   "source": [
    "# Splitting data into training and testing sets - using stratify=y\n",
    "X_lgbm_train, X_lgbm_test, y_lgbm_train, y_lgbm_test = train_test_split(X_lgbm, y_lgbm, test_size=0.2, random_state=7, stratify=y) # Stratify maintains class proportions\n",
    "\n",
    "print(f\"\\nTraining set size: {X_lgbm_train.shape[0]}\")\n",
    "print(f\"Test set size: {X_lgbm_test.shape[0]}\")"
   ]
  },
  {
   "cell_type": "code",
   "execution_count": 361,
   "metadata": {
    "id": "CK3jbrnnJwGM"
   },
   "outputs": [],
   "source": [
    "# Using ravel to turn y_train and y_test into 1D arrays for further processing\n",
    "y_lgbm_train = y_lgbm_train.values.ravel()\n",
    "y_lgbm_test = y_lgbm_test.values.ravel()"
   ]
  },
  {
   "cell_type": "markdown",
   "metadata": {
    "id": "fUl4-i__5xbP"
   },
   "source": [
    "### Hyperparameter Tuning\n",
    "\n",
    " We will be tuning the following parameters using `GridSearchCV` to find the best set of parameters.\n",
    "\n",
    "- **is_unbalance**: Quick for moderate imbalance as it auto-balances class weights.\n",
    "- **max_depth**: Shallower trees prevent overfitting, `[3, 5]`\n",
    "- **num_leaves**: Controls complexity. should be ≈2^max_depth, so will use `[15, 31]`\n",
    "- **min_data_in_leaf**:\tWanted to try`[5,10, 20]` as lower values helps to focus on minority class but based on the warnings we are getting, we have decided to try only `[10,20]`.\n",
    "- **learning_rate**: `[0.05, 0.1]`\tLower vlaues for better generalization, but slower.\n",
    "- **n_estimators**:\t`[100, 200]` Higher values for better performance, but slower, so taking moderately high values.\n",
    "- **feature_fraction**: `[0.8, 1.0]`\tFraction of features per tree to improve diversity"
   ]
  },
  {
   "cell_type": "code",
   "execution_count": 365,
   "metadata": {
    "colab": {
     "background_save": true,
     "base_uri": "https://localhost:8080/"
    },
    "id": "AgtDXlMU4h-9",
    "outputId": "c19a5c6c-daf0-4da6-ad3f-b5f7c431eeb5"
   },
   "outputs": [
    {
     "name": "stdout",
     "output_type": "stream",
     "text": [
      "\n",
      "--- Starting GridSearchCV for LightGBM model ---\n",
      "Fitting 5 folds for each of 64 candidates, totalling 320 fits\n",
      "Best parameters for LightGBM: {'feature_fraction': 0.8, 'is_unbalance': True, 'learning_rate': 0.05, 'max_depth': 5, 'min_data_in_leaf': 20, 'n_estimators': 100, 'num_leaves': 15}\n"
     ]
    }
   ],
   "source": [
    "# Initializing the LightGBM model\n",
    "lgbm = LGBMClassifier(random_state=7,\n",
    "                      n_jobs=-1,\n",
    "                      verbose=-1,  # Suppress unnecessary messages\n",
    "                      force_col_wise=True, # Avoid threading overhead warning\n",
    "                      min_child_samples=5,  # Explicitly set to match min_data_in_leaf\n",
    "    colsample_bytree=0.6)  # Align with feature_fraction to avoid conflicts\n",
    "\n",
    "# Parameter grid\n",
    "param_grid_lgbm = {\n",
    "    'is_unbalance': [True],\n",
    "    'max_depth': [3, 5],\n",
    "    'num_leaves': [15, 31],\n",
    "    'min_data_in_leaf': [10,20],\n",
    "    'learning_rate': [0.05, 0.1],\n",
    "    'n_estimators': [100, 200],\n",
    "    'feature_fraction': [0.8,1]\n",
    "\n",
    "}\n",
    "\n",
    "# Grid search with 5-fold CV (stratified folds applied by default)\n",
    "grid_search_lgbm = GridSearchCV(\n",
    "    lgbm,\n",
    "    param_grid_lgbm,\n",
    "    cv=5,\n",
    "    scoring='f1',   # as data is imbalanced\n",
    "    n_jobs=-1,      # uses all available processors\n",
    "    verbose=3,      # Progress bar visibility for monitoring\n",
    ")\n",
    "\n",
    "print(\"\\n--- Starting GridSearchCV for LightGBM model ---\")\n",
    "\n",
    "# Fitting the grid search on training data\n",
    "grid_search_lgbm.fit(X_lgbm_train, y_lgbm_train)\n",
    "\n",
    "# Best parameters\n",
    "print(\"Best parameters for LightGBM:\", grid_search_lgbm.best_params_)"
   ]
  },
  {
   "cell_type": "code",
   "execution_count": 369,
   "metadata": {
    "colab": {
     "base_uri": "https://localhost:8080/"
    },
    "id": "57eOKi20hkhh",
    "outputId": "482d1297-7174-4d69-bfcd-6cb680f94863"
   },
   "outputs": [
    {
     "name": "stdout",
     "output_type": "stream",
     "text": [
      "Best Cross-Validation f1-score:\n",
      " 0.6373\n"
     ]
    }
   ],
   "source": [
    "# Print best cross-validation score found\n",
    "print(f\"Best Cross-Validation f1-score:\\n {grid_search_lgbm.best_score_:.4f}\")"
   ]
  },
  {
   "cell_type": "markdown",
   "metadata": {},
   "source": [
    "### Fitting model using the best parameters from grid search"
   ]
  },
  {
   "cell_type": "code",
   "execution_count": 375,
   "metadata": {
    "id": "gewR5N1U35xD"
   },
   "outputs": [],
   "source": [
    "# LightGBM model with the best parameters\n",
    "best_model_lgbm = grid_search_lgbm.best_estimator_\n",
    "\n",
    "# Predicting on test set.\n",
    "y_pred_lgbm = best_model_lgbm.predict(X_lgbm_test)"
   ]
  },
  {
   "cell_type": "markdown",
   "metadata": {
    "id": "dJC5Y0Ys2-tp"
   },
   "source": [
    "### Generating PR Curve"
   ]
  },
  {
   "cell_type": "code",
   "execution_count": 378,
   "metadata": {
    "id": "LsjqCVAQgfU-"
   },
   "outputs": [],
   "source": [
    "# Using the tuned classifier to predict class probabilities for the test set\n",
    "# We need the probabilities only for the negative class (class 1).\n",
    "\n",
    "y_pred_proba_lgbm = best_model_lgbm.predict_proba(X_lgbm_test)[:, 1]"
   ]
  },
  {
   "cell_type": "code",
   "execution_count": 380,
   "metadata": {
    "colab": {
     "base_uri": "https://localhost:8080/",
     "height": 564
    },
    "id": "t2z35adP29i5",
    "outputId": "4e53f1fa-8977-4823-e363-7b1b977e96a2"
   },
   "outputs": [
    {
     "data": {
      "image/png": "[encoded data removed]",
      "text/plain": [
       "<Figure size 800x600 with 1 Axes>"
      ]
     },
     "metadata": {},
     "output_type": "display_data"
    }
   ],
   "source": [
    "# Calculating precision, recall, and thresholds using precision_recall_curve\n",
    "precision_points_lgbm, recall_points_lgbm, thresholds_pr_lgbm = precision_recall_curve(y_lgbm_test, y_pred_proba_lgbm)\n",
    "\n",
    "# Calculating Area Under the PR Curve (AUC-PR) using average_precision_score\n",
    "auc_pr_lgbm= average_precision_score(y_lgbm_test, y_pred_proba_lgbm)\n",
    "\n",
    "# Plotting the PR curve\n",
    "plt.figure(figsize=(8, 6))\n",
    "plt.plot(recall_points_lgbm, precision_points_lgbm, marker='.', label=f'LightGBM (AUC-PR = {auc_pr_lgbm:.3f})')\n",
    "\n",
    "# Plotting the baseline (random guessing) for comparison as the data is imbalanced\n",
    "baseline = np.sum(y_lgbm_test ==1) / len(y_lgbm_test)\n",
    "plt.plot([0, 1], [baseline, baseline], linestyle='--', label=f'Baseline (Precision = {baseline:.3f})')\n",
    "\n",
    "plt.title('LightGBM Precision-Recall Curve')\n",
    "plt.xlabel('Recall (True Positive Rate)')\n",
    "plt.ylabel('Precision')\n",
    "plt.legend()\n",
    "plt.grid(True)\n",
    "plt.show()"
   ]
  },
  {
   "cell_type": "markdown",
   "metadata": {
    "id": "qLwATAdG2fdT"
   },
   "source": [
    "### Interpretation of PR curve"
   ]
  },
  {
   "cell_type": "code",
   "execution_count": 382,
   "metadata": {
    "colab": {
     "base_uri": "https://localhost:8080/"
    },
    "id": "H4e0LAnz2lkz",
    "outputId": "eaa4f7af-3045-47c6-f6a5-210ee0c000a7"
   },
   "outputs": [
    {
     "name": "stdout",
     "output_type": "stream",
     "text": [
      "Baseline Precision: 0.2708\n",
      "LightGBM Area Under PR Curve (Average Precision): 0.6485\n"
     ]
    }
   ],
   "source": [
    "print(f\"Baseline Precision: {baseline:.4f}\")\n",
    "print(f'LightGBM Area Under PR Curve (Average Precision): {auc_pr_lgbm:.4f}')"
   ]
  },
  {
   "cell_type": "markdown",
   "metadata": {},
   "source": [
    "**AUC-PR (Average Precision) = 0.648**\n",
    "- The model's ability to distinguish at-risk teams (class 1) is moderate.\n",
    "- Model average precision is significantly higher than the **Baseline Precision of 0.27**, indicating it captures meaningful signals.\n",
    "- The curve is above the baseline but flattens quickly, indicating that higher recall would drastically reduce precision (more false positives)"
   ]
  },
  {
   "cell_type": "markdown",
   "metadata": {},
   "source": [
    "### Optimal point threshold calculation\n",
    "\n",
    "As f1-score balances both Precision and Recall, the optimal point will be the point with the best f1-score. "
   ]
  },
  {
   "cell_type": "code",
   "execution_count": 422,
   "metadata": {},
   "outputs": [],
   "source": [
    "# f1-score as evaluation metric\n",
    "f1_scores_lgbm = (2 * precision_points_lgbm * recall_points_lgbm) / (precision_points_lgbm + recall_points_lgbm + 1e-9)\n",
    "best_idx_lgbm = np.argmax(f1_scores_lgbm) \n",
    "best_threshold_lgbm = thresholds_pr_rf[best_idx_lgbm]     # Threshold at optimal point"
   ]
  },
  {
   "cell_type": "code",
   "execution_count": 424,
   "metadata": {
    "id": "ZjDf-Ri-2EVu"
   },
   "outputs": [
    {
     "name": "stdout",
     "output_type": "stream",
     "text": [
      "Best Threshold for LightGBM: 0.449\n"
     ]
    }
   ],
   "source": [
    "print(f\"Best Threshold for LightGBM: {best_threshold_lgbm:.3f}\")"
   ]
  },
  {
   "cell_type": "markdown",
   "metadata": {
    "id": "8lEkEJnuF0pA"
   },
   "source": [
    "### Evaluation Metrics (0.449)"
   ]
  },
  {
   "cell_type": "code",
   "execution_count": 525,
   "metadata": {
    "colab": {
     "base_uri": "https://localhost:8080/",
     "height": 771
    },
    "id": "Qr49OzV13mx-",
    "outputId": "283dfcfb-6f8e-4159-b922-17977c8518f2"
   },
   "outputs": [
    {
     "name": "stdout",
     "output_type": "stream",
     "text": [
      "Evaluation metrics - LightGBM\n",
      "LightGBM Metrics:\n",
      "Accuracy: 0.7625\n",
      "Precision: 0.5426\n",
      "Recall: 0.7846\n",
      "F1 Score: 0.6415\n"
     ]
    },
    {
     "data": {
      "image/png": "[encoded data removed]",
      "text/plain": [
       "<Figure size 640x480 with 2 Axes>"
      ]
     },
     "metadata": {},
     "output_type": "display_data"
    },
    {
     "name": "stdout",
     "output_type": "stream",
     "text": [
      "LightGBM - Classification Report: \n",
      "              precision    recall  f1-score   support\n",
      "\n",
      "           0       0.90      0.75      0.82       175\n",
      "           1       0.54      0.78      0.64        65\n",
      "\n",
      "    accuracy                           0.76       240\n",
      "   macro avg       0.72      0.77      0.73       240\n",
      "weighted avg       0.81      0.76      0.77       240\n",
      "\n"
     ]
    }
   ],
   "source": [
    "# Applying threshold \n",
    "y_pred_threshold_lgbm = (y_pred_proba_lgbm >= best_threshold_lgbm).astype(int)\n",
    "\n",
    "# Performance Metrics\n",
    "accuracy_lgbm = accuracy_score(y_lgbm_test, y_pred_threshold_lgbm)\n",
    "precision_lgbm = precision_score(y_lgbm_test, y_pred_threshold_lgbm)\n",
    "recall_lgbm = recall_score(y_lgbm_test, y_pred_threshold_lgbm)\n",
    "f1_lgbm = f1_score(y_lgbm_test, y_pred_threshold_lgbm)\n",
    "\n",
    "print('Evaluation metrics - LightGBM')\n",
    "print(f\"LightGBM Metrics:\")\n",
    "print(f\"Accuracy: {accuracy_lgbm:.4f}\")\n",
    "print(f\"Precision: {precision_lgbm:.4f}\")\n",
    "print(f\"Recall: {recall_lgbm:.4f}\")\n",
    "print(f\"F1 Score: {f1_lgbm:.4f}\")\n",
    "\n",
    "# Confusion matrix\n",
    "cm_lgbm = confusion_matrix(y_lgbm_test, y_pred_threshold_lgbm)\n",
    "disp_cm_lgbm = ConfusionMatrixDisplay(confusion_matrix=cm_lgbm)\n",
    "disp_cm_lgbm.plot(cmap=\"Greens\")\n",
    "plt.title(\"\\nLightGBM Confusion Matrix\")\n",
    "plt.show()\n",
    "\n",
    "# classification report\n",
    "cr_lgbm = classification_report(y_lgbm_test, y_pred_threshold_lgbm)\n",
    "\n",
    "print('LightGBM - Classification Report: ')\n",
    "print(cr_lgbm)"
   ]
  },
  {
   "cell_type": "markdown",
   "metadata": {
    "id": "HaB9_5xkB4r9"
   },
   "source": [
    "[Index](#Index)\n",
    "\n",
    "# Part 4. Findings and Discussion"
   ]
  },
  {
   "cell_type": "markdown",
   "metadata": {
    "id": "CtmYiZVMWjK-"
   },
   "source": [
    "## 1. Error Analysis"
   ]
  },
  {
   "cell_type": "markdown",
   "metadata": {},
   "source": [
    "#### **False Positive (FP)**\n",
    "- **Definition**: A false positive occurs when the model predicts the team will not meet the target (productivity_met=1), but in reality, they do (productivity_met=0).\n",
    "- **Interpretation**: The team performs well, but the model incorrectly predicts that they are at-risk and will not meet their productivity target for that day.\n",
    "- **Consequences**: False positives lead to unnecessary resource adjustment, missed recognition, and a possible drop in motivation. \n",
    "\n",
    "#### **False Negative (FN)**\n",
    "- **Definition**: A false negative occurs when the model predicts the team will meet the target (productivity_met=0), but in reality, they don't (productivity_met=1).\n",
    "- **Interpretation**: The team is at-risk, but the model incorrectly predicts that they are on track and will meet their productivity target for that day.\n",
    "- **Consequences**:  Supervisors fail to intervene, missing the chance to adjust resources or support. This leads to wasted opportunities, poor productivity outcomes, and reduced trust in decision-making."
   ]
  },
  {
   "cell_type": "markdown",
   "metadata": {},
   "source": [
    "### Recommendation\n",
    "\n",
    "Here, both errors are not acceptable, but **False Negatives are riskier than False Positives**, as supervisors doing nothing, assuming that things are on track, results in more damage. This creates a false sense of security, which is not preferred compared to some unwanted intervention."
   ]
  },
  {
   "cell_type": "code",
   "execution_count": 393,
   "metadata": {
    "colab": {
     "base_uri": "https://localhost:8080/",
     "height": 143
    },
    "id": "FxPDKC3UqUbz",
    "outputId": "19eac8bd-df67-4daa-f7bd-2f3b7e0544c2"
   },
   "outputs": [
    {
     "data": {
      "text/html": [
       "<div>\n",
       "<style scoped>\n",
       "    .dataframe tbody tr th:only-of-type {\n",
       "        vertical-align: middle;\n",
       "    }\n",
       "\n",
       "    .dataframe tbody tr th {\n",
       "        vertical-align: top;\n",
       "    }\n",
       "\n",
       "    .dataframe thead th {\n",
       "        text-align: right;\n",
       "    }\n",
       "</style>\n",
       "<table border=\"1\" class=\"dataframe\">\n",
       "  <thead>\n",
       "    <tr style=\"text-align: right;\">\n",
       "      <th></th>\n",
       "      <th>Model</th>\n",
       "      <th>True_Positives</th>\n",
       "      <th>True_Negatives</th>\n",
       "      <th>False_Positives</th>\n",
       "      <th>False_Negatives</th>\n",
       "    </tr>\n",
       "  </thead>\n",
       "  <tbody>\n",
       "    <tr>\n",
       "      <th>0</th>\n",
       "      <td>Logistic Regression</td>\n",
       "      <td>55</td>\n",
       "      <td>122</td>\n",
       "      <td>53</td>\n",
       "      <td>10</td>\n",
       "    </tr>\n",
       "    <tr>\n",
       "      <th>1</th>\n",
       "      <td>Random Forest</td>\n",
       "      <td>47</td>\n",
       "      <td>141</td>\n",
       "      <td>34</td>\n",
       "      <td>18</td>\n",
       "    </tr>\n",
       "    <tr>\n",
       "      <th>2</th>\n",
       "      <td>LightGBM</td>\n",
       "      <td>51</td>\n",
       "      <td>132</td>\n",
       "      <td>43</td>\n",
       "      <td>14</td>\n",
       "    </tr>\n",
       "  </tbody>\n",
       "</table>\n",
       "</div>"
      ],
      "text/plain": [
       "                 Model  True_Positives  True_Negatives  False_Positives  \\\n",
       "0  Logistic Regression              55             122               53   \n",
       "1        Random Forest              47             141               34   \n",
       "2             LightGBM              51             132               43   \n",
       "\n",
       "   False_Negatives  \n",
       "0               10  \n",
       "1               18  \n",
       "2               14  "
      ]
     },
     "execution_count": 393,
     "metadata": {},
     "output_type": "execute_result"
    }
   ],
   "source": [
    "# Creating a Confusion Matrix comparison table with FP, FN, TP, TN\n",
    "cm_compare = pd.DataFrame({\n",
    "    'Model': ['Logistic Regression', 'Random Forest', 'LightGBM'],\n",
    "    'True_Positives': [cm_lr[1,1], cm_rf[1,1],cm_lgbm[1,1]],\n",
    "    'True_Negatives': [cm_lr[0,0], cm_rf[0,0],cm_lgbm[0,0]],\n",
    "    'False_Positives': [cm_lr[0,1], cm_rf[0,1],cm_lgbm[0,1]],\n",
    "    'False_Negatives': [cm_lr[1,0], cm_rf[1,0], cm_lgbm[1,0]]\n",
    "})\n",
    "cm_compare"
   ]
  },
  {
   "cell_type": "markdown",
   "metadata": {
    "id": "4MteVGeeWfvu"
   },
   "source": [
    "## 2. Comparison of Evaluation Metrics"
   ]
  },
  {
   "cell_type": "markdown",
   "metadata": {},
   "source": [
    "#### **Precision**: \n",
    "\n",
    "- **Definition**: Of all predicted at-risk teams (productivity_met=1), how many were truly at-risk (productivity_met=1)?\n",
    "- **Business Impact**: Low Precision leads to unwanted interventions (reallocating resources and overtime costs), and missed recognition, which might result in potential team demotivation.\n",
    "- **Prioritize**: If interventions are expensive, for example, hiring temporary workers, disrupting workflows, etc.\n",
    "\n",
    "#### **Recall**: \n",
    "\n",
    "- **Definition**: Of all truly at-risk teams (productivity_met=1), how many did we correctly identify? This is crucial to avoid false negatives.\n",
    "- **Business Impact**: Low recall leads to missed opportunities to intervene and prevent productivity loss, which impacts financially if targets are consistently unmet.\n",
    "- **Prioritize**: If missing at-risk teams is catastrophic, for example, contract violations, reputational damage, etc."
   ]
  },
  {
   "cell_type": "markdown",
   "metadata": {},
   "source": [
    "### Recommendation\n",
    "\n",
    "Both are important here, but as the project’s goal is early intervention and missing at-risk teams result in more financial losses, **Recall needs to be prioritized over Precision** to ensure fewer productivity slips go undetected."
   ]
  },
  {
   "cell_type": "code",
   "execution_count": 406,
   "metadata": {
    "colab": {
     "base_uri": "https://localhost:8080/",
     "height": 178
    },
    "id": "OYWGumH5Welv",
    "outputId": "858025cf-9c8c-441d-e8ca-88f7416236aa"
   },
   "outputs": [
    {
     "name": "stdout",
     "output_type": "stream",
     "text": [
      "Metrics Comparision\n",
      "\n"
     ]
    },
    {
     "data": {
      "text/html": [
       "<div>\n",
       "<style scoped>\n",
       "    .dataframe tbody tr th:only-of-type {\n",
       "        vertical-align: middle;\n",
       "    }\n",
       "\n",
       "    .dataframe tbody tr th {\n",
       "        vertical-align: top;\n",
       "    }\n",
       "\n",
       "    .dataframe thead th {\n",
       "        text-align: right;\n",
       "    }\n",
       "</style>\n",
       "<table border=\"1\" class=\"dataframe\">\n",
       "  <thead>\n",
       "    <tr style=\"text-align: right;\">\n",
       "      <th></th>\n",
       "      <th>Model</th>\n",
       "      <th>Accuracy</th>\n",
       "      <th>Precision</th>\n",
       "      <th>Recall</th>\n",
       "      <th>F1 Score</th>\n",
       "    </tr>\n",
       "  </thead>\n",
       "  <tbody>\n",
       "    <tr>\n",
       "      <th>0</th>\n",
       "      <td>Logistic Regression</td>\n",
       "      <td>0.737500</td>\n",
       "      <td>0.509259</td>\n",
       "      <td>0.846154</td>\n",
       "      <td>0.635838</td>\n",
       "    </tr>\n",
       "    <tr>\n",
       "      <th>1</th>\n",
       "      <td>Random Forest</td>\n",
       "      <td>0.783333</td>\n",
       "      <td>0.580247</td>\n",
       "      <td>0.723077</td>\n",
       "      <td>0.643836</td>\n",
       "    </tr>\n",
       "    <tr>\n",
       "      <th>2</th>\n",
       "      <td>LightGBM</td>\n",
       "      <td>0.762500</td>\n",
       "      <td>0.542553</td>\n",
       "      <td>0.784615</td>\n",
       "      <td>0.641509</td>\n",
       "    </tr>\n",
       "  </tbody>\n",
       "</table>\n",
       "</div>"
      ],
      "text/plain": [
       "                 Model  Accuracy  Precision    Recall  F1 Score\n",
       "0  Logistic Regression  0.737500   0.509259  0.846154  0.635838\n",
       "1        Random Forest  0.783333   0.580247  0.723077  0.643836\n",
       "2             LightGBM  0.762500   0.542553  0.784615  0.641509"
      ]
     },
     "execution_count": 406,
     "metadata": {},
     "output_type": "execute_result"
    }
   ],
   "source": [
    "# Creating a Metrics comparison table with Accuracy, Precision, Recall, F1-Score)\n",
    "print(\"Metrics Comparision\\n\")\n",
    "performance = pd.DataFrame({\n",
    "    'Model': ['Logistic Regression', 'Random Forest', 'LightGBM'],\n",
    "    'Accuracy': [accuracy_lr, accuracy_rf ,accuracy_lgbm],\n",
    "    'Precision': [precision_lr, precision_rf, precision_lgbm],\n",
    "    'Recall': [recall_lr, recall_rf, recall_lgbm],\n",
    "    'F1 Score': [f1_lr, f1_rf, f1_lgbm]\n",
    "})\n",
    "performance"
   ]
  },
  {
   "cell_type": "markdown",
   "metadata": {},
   "source": [
    "## 3. Model Comparison Summary"
   ]
  },
  {
   "cell_type": "markdown",
   "metadata": {},
   "source": [
    "### Logistic Regression\n",
    "\n",
    "- **Strength**: Highest recall (84.6%) and Lowest False Negatives (10) — best at identifying at-risk teams along with minimizing the risk of missing teams that are actually at-risk.\n",
    "- **Weakness**: Lowest precision (50.9%) — highest false positives (53) - leading to unnecessary interventions and resource costs.\n",
    "- **Recommendation**:\n",
    "  - **Best choice when False Negatives are riskier** than False Positives, i.e., suitable for **high-stakes environments** where missing an at-risk team has serious consequences, with an acceptable trade-off in operational efficiency for better intervention coverage."
   ]
  },
  {
   "cell_type": "markdown",
   "metadata": {},
   "source": [
    "### Random Forest\n",
    "\n",
    "- **Strength**: Highest precision (58.0%) and Lowest False Positives (34)- reducing unnecessary interventions.\n",
    "- **Weakness**: Lowest recall (72.3%) — higher chance of missing at-risk teams.\n",
    "- **Recommendation**:\n",
    "  - Ideal for **cost-sensitive operations** where interventions are expensive and resources are limited.\n",
    "  - **Not suitable** when the cost of missing an underperforming team is high."
   ]
  },
  {
   "cell_type": "markdown",
   "metadata": {},
   "source": [
    "### LightGBM\n",
    "\n",
    "- **Strength**: Balanced recall (78.5%) and precision (54.3%).\n",
    "- **Weakness**: Moderate False Negatives (14) and False Positives (43).\n",
    "- **Recommendation**:\n",
    "    - Best suited for scenarios where **false positives and false negatives carry relatively equal costs**, i.e., when looking for a balance between **intervention efficiency and coverage**."
   ]
  },
  {
   "cell_type": "markdown",
   "metadata": {},
   "source": [
    "## 4. Recommended Model and its usage"
   ]
  },
  {
   "cell_type": "markdown",
   "metadata": {},
   "source": [
    "### Logistic Regression\n",
    "\n",
    "This model is recommended as it delivered the **highest recall (84.6%)** and **lowest false negatives (10)** among all models. This directly aligns with the business need to **minimize undetected at-risk teams**, ensuring:\n",
    "- Early identification of performance issues\n",
    "- Proactive intervention to avoid production delays\n",
    "- Improved confidence in managerial decisions\n",
    "\n",
    "While the model had lower precision (50.9%) and the highest false positives (53), this trade-off is acceptable in contexts where **missing a real issue is riskier than reacting to a false alarm**.\n"
   ]
  },
  {
   "cell_type": "markdown",
   "metadata": {},
   "source": [
    "### Model Usage\n",
    "1. **Integrate with Daily Operations Dashboard**: Use the model to generate risk flags for each team at the start of the day based on input features. These can be displayed in a simple color-coded dashboard for supervisors to review.\n",
    "\n",
    "2. **Set Customizable Thresholds for Precision vs. Recall**  \n",
    "   Implement functionality to adjust the decision threshold dynamically — for example:\n",
    "   - **Lower thresholds** during critical production cycles to catch more at-risk teams (high recall).\n",
    "   - **Higher thresholds** when resource allocation is tight to avoid too many false positives.\n",
    "\n",
    "4. **Design an Escalation Protocol**  \n",
    "   Automate alerts based on model predictions — for example:\n",
    "   - Green: Low risk — no action.\n",
    "   - Yellow: Moderate risk — recommend monitoring.\n",
    "   - Red: High risk — intervene with resource or support.\n",
    "\n",
    "6. **Feedback Loop for Continuous Improvement**  \n",
    "   Collect post-intervention outcomes to retrain and fine-tune the model, ensuring it stays relevant as team behavior and processes evolve.\n",
    "\n"
   ]
  },
  {
   "cell_type": "markdown",
   "metadata": {},
   "source": [
    "### Qualifications and Considerations\n",
    "\n",
    "- **Model Interpretability**: Logistic Regression offers transparency, which is helpful for supervisor trust. However, complex non-linear patterns may be missed.\n",
    "\n",
    "- **Data Quality Dependency**: Prediction quality depends heavily on timely and accurate input features (e.g., shift data, resource allocation, prior team history). Incomplete or outdated data could degrade model reliability.\n",
    "\n",
    "- **Not a Decision-Maker**: The model should **assist**, not replace, human judgment. Final decisions should consider real-time context, resource availability, and operational constraints.\n",
    "\n",
    "- **False Positives Still Costly**: While acceptable in the current context, frequent unnecessary interventions can eventually cause supervisor fatigue or reduce trust in the system; periodic performance review is essential."
   ]
  },
  {
   "cell_type": "markdown",
   "metadata": {
    "id": "Gbk09X0XCOcu"
   },
   "source": [
    "[Index](#Index)\n",
    "\n",
    "# Part 5. Conclusion"
   ]
  },
  {
   "cell_type": "markdown",
   "metadata": {
    "id": "I14RggIVp3dF"
   },
   "source": [
    "### Business Problem Recap:\n",
    "\n",
    "The key business question is **\"Can we predict at-risk teams in advance so that timely resource adjustments can be made?\"**\n",
    "\n",
    "The goal of this project is to **build a binary classification model to predict if a team will meet its daily productivity target**, enabling **supervisors to intervene proactively** and avoid costly underperformance.\n",
    "\n",
    "This prediction needed to balance two critical business impacts:\n",
    "- **False Negatives (missed at-risk teams)**: Risk of no intervention, leading to lost productivity, potential contract violations, and reputational harm.\n",
    "- **False Positives (false alarms)**: Risk of unnecessary interventions, leading to wasted resources, overtime costs, and demotivated teams."
   ]
  },
  {
   "cell_type": "markdown",
   "metadata": {},
   "source": [
    "### Model Evaluation Summary:\n",
    "\n",
    "- We compared three models — **Logistic Regression**, **Random Forest**, and **LightGBM** — using classification metrics (precision, recall, F1-score) and error analysis (FP, FN).\n",
    "- **Recall is more critical** than precision in this case, as failing to detect at-risk teams has more severe financial and operational consequences than overreacting to false alarms.\n",
    "- Therefore, **minimizing False Negatives (FN)** is the top priority."
   ]
  },
  {
   "cell_type": "markdown",
   "metadata": {},
   "source": [
    "### Final Recommendation:\n",
    "\n",
    "**Logistic Regression** is the most suitable model:\n",
    "  - **Best recall (84.6%)** — catches almost all at-risk teams.\n",
    "  - **Lowest FN (10)** — minimizes missed interventions.\n",
    "  - Though it has a higher FP (53), the trade-off is acceptable in the context of early warning systems where **missing a real risk is costlier than overreacting**."
   ]
  },
  {
   "cell_type": "markdown",
   "metadata": {},
   "source": [
    "### Business Action:\n",
    "- Deploy **Logistic Regression** for early risk detection in production.\n",
    "- Set an **appropriate decision threshold** to balance intervention costs over time.\n",
    "- Regularly retrain and monitor model performance to adapt to changing team dynamics and operational constraints."
   ]
  },
  {
   "cell_type": "markdown",
   "metadata": {},
   "source": [
    "#### We can reliably identify at-risk teams in advance, enabling smarter, proactive decision-making, and the Logistic Regression model best serves this business goal."
   ]
  }
 ],
 "metadata": {
  "colab": {
   "collapsed_sections": [
    "NxOBgvF8FJBn"
   ],
   "provenance": []
  },
  "kernelspec": {
   "display_name": "Python [conda env:base] *",
   "language": "python",
   "name": "conda-base-py"
  },
  "language_info": {
   "codemirror_mode": {
    "name": "ipython",
    "version": 3
   },
   "file_extension": ".py",
   "mimetype": "text/x-python",
   "name": "python",
   "nbconvert_exporter": "python",
   "pygments_lexer": "ipython3",
   "version": "3.12.2"
  }
 },
 "nbformat": 4,
 "nbformat_minor": 4
}
